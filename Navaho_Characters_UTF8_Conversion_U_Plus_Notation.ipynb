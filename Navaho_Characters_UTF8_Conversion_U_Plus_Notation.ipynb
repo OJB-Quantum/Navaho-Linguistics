{
  "nbformat": 4,
  "nbformat_minor": 0,
  "metadata": {
    "colab": {
      "provenance": [],
      "authorship_tag": "ABX9TyPU3/BOpGvUwB0KUMX3ZKpn",
      "include_colab_link": true
    },
    "kernelspec": {
      "name": "python3",
      "display_name": "Python 3"
    },
    "language_info": {
      "name": "python"
    }
  },
  "cells": [
    {
      "cell_type": "markdown",
      "metadata": {
        "id": "view-in-github",
        "colab_type": "text"
      },
      "source": [
        "<a href=\"https://colab.research.google.com/github/OJB-Quantum/Navaho-Linguistics/blob/main/Navaho_Characters_UTF8_Conversion_U_Plus_Notation.ipynb\" target=\"_parent\"><img src=\"https://colab.research.google.com/assets/colab-badge.svg\" alt=\"Open In Colab\"/></a>"
      ]
    },
    {
      "cell_type": "markdown",
      "source": [
        "## This repository shows example scripts in Python to convert Navaho characters into \"U+\" notation Unicode, based on UTF-8. The motivation is based on the desire to combine characters easily so that future Navaho language databases could benefit from a set of character references."
      ],
      "metadata": {
        "id": "bAtJNdRpab87"
      }
    },
    {
      "cell_type": "code",
      "source": [
        "!pip install openpyxl\n"
      ],
      "metadata": {
        "colab": {
          "base_uri": "https://localhost:8080/"
        },
        "id": "BRHQqT6aIeOF",
        "outputId": "fe665d68-79af-403b-83ce-dfccd3063292"
      },
      "execution_count": 13,
      "outputs": [
        {
          "output_type": "stream",
          "name": "stdout",
          "text": [
            "Requirement already satisfied: openpyxl in /usr/local/lib/python3.10/dist-packages (3.1.2)\n",
            "Requirement already satisfied: et-xmlfile in /usr/local/lib/python3.10/dist-packages (from openpyxl) (1.1.0)\n"
          ]
        }
      ]
    },
    {
      "cell_type": "code",
      "source": [
        "# Convert based on XLSX file type, where a list of Navaho characters may be stored. The output is a txt file.\n",
        "# You will notice that for some reason, the (ǫ́) character is having some problems breaking down into \"U+\" notation.\n",
        "\n",
        "import openpyxl\n",
        "\n",
        "def convert_to_utf8_code(input_file, output_file):\n",
        "    # Load the workbook and select the first sheet\n",
        "    workbook = openpyxl.load_workbook(input_file)\n",
        "    first_sheet = workbook.worksheets[0]\n",
        "\n",
        "    with open(output_file, mode='w', encoding='utf-8') as output:\n",
        "        for row in first_sheet.iter_rows(min_row=1, max_col=1, values_only=True):\n",
        "            text = row[0]\n",
        "            if text is not None:\n",
        "                for char in text:\n",
        "                    utf8_code = \"U+{:04X}\".format(ord(char))\n",
        "                    output.write(utf8_code + '\\n')\n",
        "                    print(f\"Character '{char}' -> UTF-8 Code: {utf8_code}\")\n",
        "\n",
        "# Example usage\n",
        "convert_to_utf8_code('Navaho_Characters_UTF8_Conversion_v2.xlsx', 'NV_UTF8_UPLUS_v3.txt')\n"
      ],
      "metadata": {
        "colab": {
          "base_uri": "https://localhost:8080/"
        },
        "id": "GJWLgBS2J-Rb",
        "outputId": "1387305a-cfa2-4613-8fad-c209106e44c1"
      },
      "execution_count": 16,
      "outputs": [
        {
          "output_type": "stream",
          "name": "stdout",
          "text": [
            "Character 'A' -> UTF-8 Code: U+0041\n",
            "Character 'B' -> UTF-8 Code: U+0042\n",
            "Character 'C' -> UTF-8 Code: U+0043\n",
            "Character 'h' -> UTF-8 Code: U+0068\n",
            "Character ''' -> UTF-8 Code: U+0027\n",
            "Character 'D' -> UTF-8 Code: U+0044\n",
            "Character 'D' -> UTF-8 Code: U+0044\n",
            "Character 'l' -> UTF-8 Code: U+006C\n",
            "Character 'D' -> UTF-8 Code: U+0044\n",
            "Character 'z' -> UTF-8 Code: U+007A\n",
            "Character 'E' -> UTF-8 Code: U+0045\n",
            "Character 'G' -> UTF-8 Code: U+0047\n",
            "Character 'G' -> UTF-8 Code: U+0047\n",
            "Character 'h' -> UTF-8 Code: U+0068\n",
            "Character 'H' -> UTF-8 Code: U+0048\n",
            "Character 'H' -> UTF-8 Code: U+0048\n",
            "Character 'w' -> UTF-8 Code: U+0077\n",
            "Character 'I' -> UTF-8 Code: U+0049\n",
            "Character 'J' -> UTF-8 Code: U+004A\n",
            "Character 'K' -> UTF-8 Code: U+004B\n",
            "Character 'K' -> UTF-8 Code: U+004B\n",
            "Character ''' -> UTF-8 Code: U+0027\n",
            "Character 'K' -> UTF-8 Code: U+004B\n",
            "Character 'w' -> UTF-8 Code: U+0077\n",
            "Character 'L' -> UTF-8 Code: U+004C\n",
            "Character 'Ł' -> UTF-8 Code: U+0141\n",
            "Character 'M' -> UTF-8 Code: U+004D\n",
            "Character 'N' -> UTF-8 Code: U+004E\n",
            "Character 'O' -> UTF-8 Code: U+004F\n",
            "Character 'S' -> UTF-8 Code: U+0053\n",
            "Character 'S' -> UTF-8 Code: U+0053\n",
            "Character 'h' -> UTF-8 Code: U+0068\n",
            "Character 'T' -> UTF-8 Code: U+0054\n",
            "Character 'T' -> UTF-8 Code: U+0054\n",
            "Character ''' -> UTF-8 Code: U+0027\n",
            "Character 'T' -> UTF-8 Code: U+0054\n",
            "Character 'ł' -> UTF-8 Code: U+0142\n",
            "Character 'T' -> UTF-8 Code: U+0054\n",
            "Character 'ł' -> UTF-8 Code: U+0142\n",
            "Character ''' -> UTF-8 Code: U+0027\n",
            "Character 'T' -> UTF-8 Code: U+0054\n",
            "Character 's' -> UTF-8 Code: U+0073\n",
            "Character 'T' -> UTF-8 Code: U+0054\n",
            "Character 's' -> UTF-8 Code: U+0073\n",
            "Character ''' -> UTF-8 Code: U+0027\n",
            "Character 'W' -> UTF-8 Code: U+0057\n",
            "Character 'X' -> UTF-8 Code: U+0058\n",
            "Character 'Y' -> UTF-8 Code: U+0059\n",
            "Character 'Z' -> UTF-8 Code: U+005A\n",
            "Character 'a' -> UTF-8 Code: U+0061\n",
            "Character 'á' -> UTF-8 Code: U+00E1\n",
            "Character 'ą' -> UTF-8 Code: U+0105\n",
            "Character 'ą' -> UTF-8 Code: U+0105\n",
            "Character '́' -> UTF-8 Code: U+0301\n",
            "Character 'é' -> UTF-8 Code: U+00E9\n",
            "Character 'ę' -> UTF-8 Code: U+0119\n",
            "Character 'ę' -> UTF-8 Code: U+0119\n",
            "Character '́' -> UTF-8 Code: U+0301\n",
            "Character 'í' -> UTF-8 Code: U+00ED\n",
            "Character 'į' -> UTF-8 Code: U+012F\n",
            "Character 'į' -> UTF-8 Code: U+012F\n",
            "Character '́' -> UTF-8 Code: U+0301\n",
            "Character 'ó' -> UTF-8 Code: U+00F3\n",
            "Character 'ǫ' -> UTF-8 Code: U+01EB\n",
            "Character 'ǫ' -> UTF-8 Code: U+01EB\n",
            "Character '́' -> UTF-8 Code: U+0301\n",
            "Character 'ń' -> UTF-8 Code: U+0144\n"
          ]
        }
      ]
    },
    {
      "cell_type": "markdown",
      "source": [],
      "metadata": {
        "id": "fTrv87HcaZy-"
      }
    }
  ]
}