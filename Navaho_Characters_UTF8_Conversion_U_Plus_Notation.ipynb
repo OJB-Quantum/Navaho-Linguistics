{
  "nbformat": 4,
  "nbformat_minor": 0,
  "metadata": {
    "colab": {
      "provenance": [],
      "authorship_tag": "ABX9TyMPUpsS5FQmY057433R5nPZ",
      "include_colab_link": true
    },
    "kernelspec": {
      "name": "python3",
      "display_name": "Python 3"
    },
    "language_info": {
      "name": "python"
    }
  },
  "cells": [
    {
      "cell_type": "markdown",
      "metadata": {
        "id": "view-in-github",
        "colab_type": "text"
      },
      "source": [
        "<a href=\"https://colab.research.google.com/github/OJB-Quantum/Navaho-Linguistics/blob/main/Navaho_Characters_UTF8_Conversion_U_Plus_Notation.ipynb\" target=\"_parent\"><img src=\"https://colab.research.google.com/assets/colab-badge.svg\" alt=\"Open In Colab\"/></a>"
      ]
    },
    {
      "cell_type": "code",
      "source": [
        "import csv\n",
        "\n",
        "def convert_to_utf8_code(input_file, output_file):\n",
        "    encodings = ['utf-8', 'ISO-8859-1', 'windows-1252', 'utf-16-le', 'utf-16-be']\n",
        "    for encoding in encodings:\n",
        "        try:\n",
        "            with open(input_file, mode='r', encoding=encoding) as file:\n",
        "                csv_reader = csv.reader(file)\n",
        "                with open(output_file, mode='w', encoding='utf-8') as output:\n",
        "                    for row in csv_reader:\n",
        "                        char = row[0]\n",
        "                        utf8_code = \"U+{:04X}\".format(ord(char))\n",
        "                        output.write(utf8_code + '\\n')\n",
        "                        print(f\"Character '{char}' -> UTF-8 Code: {utf8_code}\")\n",
        "            print(f\"File read successfully with encoding: {encoding}\")\n",
        "            break  # Stop trying other encodings as this one was successful\n",
        "        except UnicodeDecodeError:\n",
        "            print(f\"Could not decode file with encoding: {encoding}\")\n",
        "        except IndexError:\n",
        "            # Handle the case where a row might be empty or not have enough columns\n",
        "            print(f\"Error in processing a row with encoding: {encoding}\")\n",
        "\n",
        "# Example usage\n",
        "convert_to_utf8_code('Navaho_Characters_UTF8_Conversion_v1.csv', 'NV_UTF8_U_Plus.txt')\n"
      ],
      "metadata": {
        "colab": {
          "base_uri": "https://localhost:8080/"
        },
        "id": "CoZEZ_-U-UAd",
        "outputId": "a79b3281-e0f8-42ed-a428-9c72ac1dd544"
      },
      "execution_count": 8,
      "outputs": [
        {
          "output_type": "stream",
          "name": "stdout",
          "text": [
            "Could not decode file with encoding: utf-8\n",
            "Character 'A' -> UTF-8 Code: U+0041\n",
            "Character 'B' -> UTF-8 Code: U+0042\n",
            "Character 'C' -> UTF-8 Code: U+0043\n",
            "Character 'h' -> UTF-8 Code: U+0068\n",
            "Character ''' -> UTF-8 Code: U+0027\n",
            "Character 'D' -> UTF-8 Code: U+0044\n",
            "Character 'D' -> UTF-8 Code: U+0044\n",
            "Character 'l' -> UTF-8 Code: U+006C\n",
            "Character 'D' -> UTF-8 Code: U+0044\n",
            "Character 'z' -> UTF-8 Code: U+007A\n",
            "Character 'E' -> UTF-8 Code: U+0045\n",
            "Character 'G' -> UTF-8 Code: U+0047\n",
            "Character 'G' -> UTF-8 Code: U+0047\n",
            "Character 'h' -> UTF-8 Code: U+0068\n",
            "Character 'H' -> UTF-8 Code: U+0048\n",
            "Character 'H' -> UTF-8 Code: U+0048\n",
            "Character 'w' -> UTF-8 Code: U+0077\n",
            "Character 'I' -> UTF-8 Code: U+0049\n",
            "Character 'J' -> UTF-8 Code: U+004A\n",
            "Character 'K' -> UTF-8 Code: U+004B\n",
            "Character 'K' -> UTF-8 Code: U+004B\n",
            "Character ''' -> UTF-8 Code: U+0027\n",
            "Character 'K' -> UTF-8 Code: U+004B\n",
            "Character 'w' -> UTF-8 Code: U+0077\n",
            "Character 'L' -> UTF-8 Code: U+004C\n",
            "Character '?' -> UTF-8 Code: U+003F\n",
            "Character 'M' -> UTF-8 Code: U+004D\n",
            "Character 'N' -> UTF-8 Code: U+004E\n",
            "Character 'O' -> UTF-8 Code: U+004F\n",
            "Character 'S' -> UTF-8 Code: U+0053\n",
            "Character 'S' -> UTF-8 Code: U+0053\n",
            "Character 'h' -> UTF-8 Code: U+0068\n",
            "Character 'T' -> UTF-8 Code: U+0054\n",
            "Character 'T' -> UTF-8 Code: U+0054\n",
            "Character ''' -> UTF-8 Code: U+0027\n",
            "Character 'T' -> UTF-8 Code: U+0054\n",
            "Character '?' -> UTF-8 Code: U+003F\n",
            "Character 'T' -> UTF-8 Code: U+0054\n",
            "Character '?' -> UTF-8 Code: U+003F\n",
            "Character ''' -> UTF-8 Code: U+0027\n",
            "Character 'T' -> UTF-8 Code: U+0054\n",
            "Character 's' -> UTF-8 Code: U+0073\n",
            "Character 'T' -> UTF-8 Code: U+0054\n",
            "Character 's' -> UTF-8 Code: U+0073\n",
            "Character ''' -> UTF-8 Code: U+0027\n",
            "Character 'W' -> UTF-8 Code: U+0057\n",
            "Character 'X' -> UTF-8 Code: U+0058\n",
            "Character 'Y' -> UTF-8 Code: U+0059\n",
            "Character 'Z' -> UTF-8 Code: U+005A\n",
            "Error in processing a row with encoding: ISO-8859-1\n",
            "Character 'A' -> UTF-8 Code: U+0041\n",
            "Character 'B' -> UTF-8 Code: U+0042\n",
            "Character 'C' -> UTF-8 Code: U+0043\n",
            "Character 'h' -> UTF-8 Code: U+0068\n",
            "Character ''' -> UTF-8 Code: U+0027\n",
            "Character 'D' -> UTF-8 Code: U+0044\n",
            "Character 'D' -> UTF-8 Code: U+0044\n",
            "Character 'l' -> UTF-8 Code: U+006C\n",
            "Character 'D' -> UTF-8 Code: U+0044\n",
            "Character 'z' -> UTF-8 Code: U+007A\n",
            "Character 'E' -> UTF-8 Code: U+0045\n",
            "Character 'G' -> UTF-8 Code: U+0047\n",
            "Character 'G' -> UTF-8 Code: U+0047\n",
            "Character 'h' -> UTF-8 Code: U+0068\n",
            "Character 'H' -> UTF-8 Code: U+0048\n",
            "Character 'H' -> UTF-8 Code: U+0048\n",
            "Character 'w' -> UTF-8 Code: U+0077\n",
            "Character 'I' -> UTF-8 Code: U+0049\n",
            "Character 'J' -> UTF-8 Code: U+004A\n",
            "Character 'K' -> UTF-8 Code: U+004B\n",
            "Character 'K' -> UTF-8 Code: U+004B\n",
            "Character ''' -> UTF-8 Code: U+0027\n",
            "Character 'K' -> UTF-8 Code: U+004B\n",
            "Character 'w' -> UTF-8 Code: U+0077\n",
            "Character 'L' -> UTF-8 Code: U+004C\n",
            "Character '?' -> UTF-8 Code: U+003F\n",
            "Character 'M' -> UTF-8 Code: U+004D\n",
            "Character 'N' -> UTF-8 Code: U+004E\n",
            "Character 'O' -> UTF-8 Code: U+004F\n",
            "Character 'S' -> UTF-8 Code: U+0053\n",
            "Character 'S' -> UTF-8 Code: U+0053\n",
            "Character 'h' -> UTF-8 Code: U+0068\n",
            "Character 'T' -> UTF-8 Code: U+0054\n",
            "Character 'T' -> UTF-8 Code: U+0054\n",
            "Character ''' -> UTF-8 Code: U+0027\n",
            "Character 'T' -> UTF-8 Code: U+0054\n",
            "Character '?' -> UTF-8 Code: U+003F\n",
            "Character 'T' -> UTF-8 Code: U+0054\n",
            "Character '?' -> UTF-8 Code: U+003F\n",
            "Character ''' -> UTF-8 Code: U+0027\n",
            "Character 'T' -> UTF-8 Code: U+0054\n",
            "Character 's' -> UTF-8 Code: U+0073\n",
            "Character 'T' -> UTF-8 Code: U+0054\n",
            "Character 's' -> UTF-8 Code: U+0073\n",
            "Character ''' -> UTF-8 Code: U+0027\n",
            "Character 'W' -> UTF-8 Code: U+0057\n",
            "Character 'X' -> UTF-8 Code: U+0058\n",
            "Character 'Y' -> UTF-8 Code: U+0059\n",
            "Character 'Z' -> UTF-8 Code: U+005A\n",
            "Error in processing a row with encoding: windows-1252\n",
            "Could not decode file with encoding: utf-16-le\n",
            "Could not decode file with encoding: utf-16-be\n"
          ]
        }
      ]
    },
    {
      "cell_type": "markdown",
      "source": [],
      "metadata": {
        "id": "S1U13ujw-UV_"
      }
    },
    {
      "cell_type": "code",
      "source": [],
      "metadata": {
        "id": "Cgnrn2fW-qRs"
      },
      "execution_count": null,
      "outputs": []
    }
  ]
}