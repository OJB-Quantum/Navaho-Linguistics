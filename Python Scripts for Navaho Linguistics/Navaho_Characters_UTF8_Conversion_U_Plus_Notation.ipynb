{
  "nbformat": 4,
  "nbformat_minor": 0,
  "metadata": {
    "colab": {
      "provenance": [],
      "authorship_tag": "ABX9TyPjkAP0cpEJyGWdv+4GTdcr",
      "include_colab_link": true
    },
    "kernelspec": {
      "name": "python3",
      "display_name": "Python 3"
    },
    "language_info": {
      "name": "python"
    }
  },
  "cells": [
    {
      "cell_type": "markdown",
      "metadata": {
        "id": "view-in-github",
        "colab_type": "text"
      },
      "source": [
        "<a href=\"https://colab.research.google.com/github/OJB-Quantum/Navaho-Linguistics/blob/main/Python%20Scripts%20for%20Navaho%20Linguistics/Navaho_Characters_UTF8_Conversion_U_Plus_Notation.ipynb\" target=\"_parent\"><img src=\"https://colab.research.google.com/assets/colab-badge.svg\" alt=\"Open In Colab\"/></a>"
      ]
    },
    {
      "cell_type": "markdown",
      "source": [
        "### This notebook shows example scripts in Python to convert Navaho characters into \"U+\" notation Unicode, based on UTF-8. The motivation comes from its convenience in character generation when one desires to correctly spell Navaho words. This form of character generation may provide a robust sequence of protocols for practical language usage in digital form, further strengthening any future initiatives to automate Navaho translation."
      ],
      "metadata": {
        "id": "bAtJNdRpab87"
      }
    },
    {
      "cell_type": "code",
      "source": [
        "!pip install openpyxl"
      ],
      "metadata": {
        "colab": {
          "base_uri": "https://localhost:8080/"
        },
        "id": "BRHQqT6aIeOF",
        "outputId": "fe665d68-79af-403b-83ce-dfccd3063292"
      },
      "execution_count": null,
      "outputs": [
        {
          "output_type": "stream",
          "name": "stdout",
          "text": [
            "Requirement already satisfied: openpyxl in /usr/local/lib/python3.10/dist-packages (3.1.2)\n",
            "Requirement already satisfied: et-xmlfile in /usr/local/lib/python3.10/dist-packages (from openpyxl) (1.1.0)\n"
          ]
        }
      ]
    },
    {
      "cell_type": "code",
      "source": [
        "# Convert based on XLSX file type, where a list of Navaho characters may be stored. The output is a txt file.\n",
        "# You will notice that for some reason, the (ǫ́) character is having some problems breaking down into \"U+\" notation.\n",
        "# Any character complications that may arise are likely due to a string of character components being greater than 1.\n",
        "# If there are more than 1 character components, then the solution is to string together 2 or more Unicode notations together.\n",
        "# This will result in a single character output with all the combined components from the Unicodes that make up that character.\n",
        "# In most cases, however, only 1 Unicode notation is required to generate a character.\n",
        "# Examples of Unicode formats...\n",
        "# \"U+\" notation for 1 Unicode string vs 2 Unicode strings vs. 3 Unicode strings (respectively): U+0041 vs. U+0105 U+0301 vs. U+0043 U+0068 U+0027  # Each of these are different characters.\n",
        "# \"\\u\" notation for 1 Unicode string vs 2 Unicode strings vs. 3 Unicode strings (respectively): \\u0041 vs. \\u0105\\u0301 vs. \\u0043\\u0068\\u0027 # Each of these are different characters as well.\n",
        "\n",
        "import openpyxl\n",
        "\n",
        "def convert_to_utf8_code(input_file, output_file):\n",
        "    # Load the workbook and select the first sheet\n",
        "    workbook = openpyxl.load_workbook(input_file)\n",
        "    first_sheet = workbook.worksheets[0]\n",
        "\n",
        "    with open(output_file, mode='w', encoding='utf-8') as output:\n",
        "        for row in first_sheet.iter_rows(min_row=1, max_col=1, values_only=True):\n",
        "            text = row[0]\n",
        "            if text is not None:\n",
        "                for char in text:\n",
        "                    utf8_code = \"U+{:04X}\".format(ord(char))\n",
        "                    output.write(utf8_code + '\\n')\n",
        "                    print(f\"Character '{char}' -> UTF-8 Code: {utf8_code}\")\n",
        "\n",
        "# Example usage\n",
        "convert_to_utf8_code('Navaho_Characters_UTF8_Conversion_v2.xlsx', 'NV_UTF8_UPLUS_v3.txt')\n"
      ],
      "metadata": {
        "colab": {
          "base_uri": "https://localhost:8080/"
        },
        "id": "GJWLgBS2J-Rb",
        "outputId": "1387305a-cfa2-4613-8fad-c209106e44c1"
      },
      "execution_count": null,
      "outputs": [
        {
          "output_type": "stream",
          "name": "stdout",
          "text": [
            "Character 'A' -> UTF-8 Code: U+0041\n",
            "Character 'B' -> UTF-8 Code: U+0042\n",
            "Character 'C' -> UTF-8 Code: U+0043\n",
            "Character 'h' -> UTF-8 Code: U+0068\n",
            "Character ''' -> UTF-8 Code: U+0027\n",
            "Character 'D' -> UTF-8 Code: U+0044\n",
            "Character 'D' -> UTF-8 Code: U+0044\n",
            "Character 'l' -> UTF-8 Code: U+006C\n",
            "Character 'D' -> UTF-8 Code: U+0044\n",
            "Character 'z' -> UTF-8 Code: U+007A\n",
            "Character 'E' -> UTF-8 Code: U+0045\n",
            "Character 'G' -> UTF-8 Code: U+0047\n",
            "Character 'G' -> UTF-8 Code: U+0047\n",
            "Character 'h' -> UTF-8 Code: U+0068\n",
            "Character 'H' -> UTF-8 Code: U+0048\n",
            "Character 'H' -> UTF-8 Code: U+0048\n",
            "Character 'w' -> UTF-8 Code: U+0077\n",
            "Character 'I' -> UTF-8 Code: U+0049\n",
            "Character 'J' -> UTF-8 Code: U+004A\n",
            "Character 'K' -> UTF-8 Code: U+004B\n",
            "Character 'K' -> UTF-8 Code: U+004B\n",
            "Character ''' -> UTF-8 Code: U+0027\n",
            "Character 'K' -> UTF-8 Code: U+004B\n",
            "Character 'w' -> UTF-8 Code: U+0077\n",
            "Character 'L' -> UTF-8 Code: U+004C\n",
            "Character 'Ł' -> UTF-8 Code: U+0141\n",
            "Character 'M' -> UTF-8 Code: U+004D\n",
            "Character 'N' -> UTF-8 Code: U+004E\n",
            "Character 'O' -> UTF-8 Code: U+004F\n",
            "Character 'S' -> UTF-8 Code: U+0053\n",
            "Character 'S' -> UTF-8 Code: U+0053\n",
            "Character 'h' -> UTF-8 Code: U+0068\n",
            "Character 'T' -> UTF-8 Code: U+0054\n",
            "Character 'T' -> UTF-8 Code: U+0054\n",
            "Character ''' -> UTF-8 Code: U+0027\n",
            "Character 'T' -> UTF-8 Code: U+0054\n",
            "Character 'ł' -> UTF-8 Code: U+0142\n",
            "Character 'T' -> UTF-8 Code: U+0054\n",
            "Character 'ł' -> UTF-8 Code: U+0142\n",
            "Character ''' -> UTF-8 Code: U+0027\n",
            "Character 'T' -> UTF-8 Code: U+0054\n",
            "Character 's' -> UTF-8 Code: U+0073\n",
            "Character 'T' -> UTF-8 Code: U+0054\n",
            "Character 's' -> UTF-8 Code: U+0073\n",
            "Character ''' -> UTF-8 Code: U+0027\n",
            "Character 'W' -> UTF-8 Code: U+0057\n",
            "Character 'X' -> UTF-8 Code: U+0058\n",
            "Character 'Y' -> UTF-8 Code: U+0059\n",
            "Character 'Z' -> UTF-8 Code: U+005A\n",
            "Character 'a' -> UTF-8 Code: U+0061\n",
            "Character 'á' -> UTF-8 Code: U+00E1\n",
            "Character 'ą' -> UTF-8 Code: U+0105\n",
            "Character 'ą' -> UTF-8 Code: U+0105\n",
            "Character '́' -> UTF-8 Code: U+0301\n",
            "Character 'é' -> UTF-8 Code: U+00E9\n",
            "Character 'ę' -> UTF-8 Code: U+0119\n",
            "Character 'ę' -> UTF-8 Code: U+0119\n",
            "Character '́' -> UTF-8 Code: U+0301\n",
            "Character 'í' -> UTF-8 Code: U+00ED\n",
            "Character 'į' -> UTF-8 Code: U+012F\n",
            "Character 'į' -> UTF-8 Code: U+012F\n",
            "Character '́' -> UTF-8 Code: U+0301\n",
            "Character 'ó' -> UTF-8 Code: U+00F3\n",
            "Character 'ǫ' -> UTF-8 Code: U+01EB\n",
            "Character 'ǫ' -> UTF-8 Code: U+01EB\n",
            "Character '́' -> UTF-8 Code: U+0301\n",
            "Character 'ń' -> UTF-8 Code: U+0144\n"
          ]
        }
      ]
    },
    {
      "cell_type": "markdown",
      "source": [
        "Note:\n",
        "The character ǫ́ can be represented in Unicode. Here are the Unicode representations for the character:\n",
        "\n",
        "Composed of normalised NFC (Latin Extended-A, Combining Diacritical Marks):\n",
        "\n",
        "Capital Ǫ́: U+01EA U+0301\n",
        "Small ǫ́: U+01EB U+0301"
      ],
      "metadata": {
        "id": "fTrv87HcaZy-"
      }
    },
    {
      "cell_type": "markdown",
      "source": [
        "The \"U+\" notation equivalent of the codes below is \"\\u\".\n",
        "\n",
        "For example:\n",
        "U+0105 U+0301 = \\u0105\\u0301 # Notice the space.\n",
        "\n",
        "---\n",
        "\n"
      ],
      "metadata": {
        "id": "qT_-PZMriZVw"
      }
    },
    {
      "cell_type": "code",
      "source": [
        "print(\"\\u0105\\u0301\")"
      ],
      "metadata": {
        "colab": {
          "base_uri": "https://localhost:8080/"
        },
        "id": "lZGQ0bWEjVN7",
        "outputId": "803d40a0-7044-4f0a-bd96-6d85a0bc8f35"
      },
      "execution_count": null,
      "outputs": [
        {
          "output_type": "stream",
          "name": "stdout",
          "text": [
            "ą́\n"
          ]
        }
      ]
    },
    {
      "cell_type": "code",
      "source": [
        "print(\"\\u0119\\u0301\")"
      ],
      "metadata": {
        "colab": {
          "base_uri": "https://localhost:8080/"
        },
        "id": "w5k09tJ9jmGr",
        "outputId": "389e67d1-b2c0-49b8-f7b3-b82255e2dd87"
      },
      "execution_count": null,
      "outputs": [
        {
          "output_type": "stream",
          "name": "stdout",
          "text": [
            "ę́\n"
          ]
        }
      ]
    },
    {
      "cell_type": "code",
      "source": [
        "print(\"\\u012F\\u0301\")\n"
      ],
      "metadata": {
        "colab": {
          "base_uri": "https://localhost:8080/"
        },
        "id": "2gKr3BqDi-MD",
        "outputId": "86a668e0-457a-4f35-dc50-7f7458e62b7b"
      },
      "execution_count": null,
      "outputs": [
        {
          "output_type": "stream",
          "name": "stdout",
          "text": [
            "į́\n"
          ]
        }
      ]
    },
    {
      "cell_type": "code",
      "source": [
        "print(\"\\u01EB\\u0301\")"
      ],
      "metadata": {
        "colab": {
          "base_uri": "https://localhost:8080/"
        },
        "id": "Iwjz6v0ujFBW",
        "outputId": "d117131b-a536-4eeb-8631-e6a8891c8f5e"
      },
      "execution_count": null,
      "outputs": [
        {
          "output_type": "stream",
          "name": "stdout",
          "text": [
            "ǫ́\n"
          ]
        }
      ]
    },
    {
      "cell_type": "code",
      "source": [
        "print(\"\\u0043\\u0068\\u0027\")"
      ],
      "metadata": {
        "colab": {
          "base_uri": "https://localhost:8080/"
        },
        "id": "k2jQTBBunuD1",
        "outputId": "9dff26e2-f7d6-4203-a107-3cf4c578db35"
      },
      "execution_count": null,
      "outputs": [
        {
          "output_type": "stream",
          "name": "stdout",
          "text": [
            "Ch'\n"
          ]
        }
      ]
    },
    {
      "cell_type": "code",
      "source": [
        "print(\"\\u0105\\u0301\\u0105\")"
      ],
      "metadata": {
        "colab": {
          "base_uri": "https://localhost:8080/"
        },
        "id": "DQfCAz8X2TvT",
        "outputId": "c6e687b6-5ca4-4657-cdfb-b9bb4f8ca7b9"
      },
      "execution_count": null,
      "outputs": [
        {
          "output_type": "stream",
          "name": "stdout",
          "text": [
            "ą́ą\n"
          ]
        }
      ]
    },
    {
      "cell_type": "code",
      "source": [
        "print(\"\\u0054\\u0142\\u0027\")"
      ],
      "metadata": {
        "id": "ha5sciCpPo63",
        "outputId": "a475ec25-aee3-4c5c-ba49-8da10010f0c1",
        "colab": {
          "base_uri": "https://localhost:8080/"
        }
      },
      "execution_count": null,
      "outputs": [
        {
          "output_type": "stream",
          "name": "stdout",
          "text": [
            "Tł'\n"
          ]
        }
      ]
    },
    {
      "cell_type": "markdown",
      "source": [
        "## **A correction to all the characters above:**\n",
        "\n",
        "Character 'A' -> UTF-8 Code: U+0041\n",
        "\n",
        "Character 'B' -> UTF-8 Code: U+0042\n",
        "\n",
        "Character 'Ch' -> UTF-8 Code: U+0043 U+0068\n",
        "\n",
        "Character 'Ch'' -> UTF-8 Code: U+0043 U+0068 U+0027\n",
        "\n",
        "Character 'D' -> UTF-8 Code: U+0044\n",
        "\n",
        "Character 'Dl' -> UTF-8 Code: U+0044 U+006C\n",
        "\n",
        "Character 'Dz' -> UTF-8 Code: U+0044 U+007A\n",
        "\n",
        "Character 'E' -> UTF-8 Code: U+0045\n",
        "\n",
        "Character 'G' -> UTF-8 Code: U+0047\n",
        "\n",
        "Character 'Gh' -> UTF-8 Code: U+0047 U+0068\n",
        "\n",
        "Character 'H' -> UTF-8 Code: U+0048\n",
        "\n",
        "Character 'Hw' -> UTF-8 Code: U+0048 U+0077\n",
        "\n",
        "Character 'I' -> UTF-8 Code: U+0049\n",
        "\n",
        "Character 'J' -> UTF-8 Code: U+004A\n",
        "\n",
        "Character 'K' -> UTF-8 Code: U+004B\n",
        "\n",
        "Character 'K'' -> UTF-8 Code: U+004B U+0027\n",
        "\n",
        "Character 'Kw' -> UTF-8 Code: U+004B U+0077\n",
        "\n",
        "Character 'L' -> UTF-8 Code: U+004C\n",
        "\n",
        "Character 'Ł' -> UTF-8 Code: U+0141\n",
        "\n",
        "Character 'M' -> UTF-8 Code: U+004D\n",
        "\n",
        "Character 'N' -> UTF-8 Code: U+004E\n",
        "\n",
        "Character 'O' -> UTF-8 Code: U+004F\n",
        "\n",
        "Character 'S' -> UTF-8 Code: U+0053\n",
        "\n",
        "Character 'Sh' -> UTF-8 Code: U+0053 U+0068\n",
        "\n",
        "Character 'T' -> UTF-8 Code: U+0054\n",
        "\n",
        "Character 'T'' -> UTF-8 Code: U+0054 U+0027\n",
        "\n",
        "Character 'Tł' -> UTF-8 Code: U+0054 U+0142\n",
        "\n",
        "Character 'Tł'' -> UTF-8 Code: U+0054 U+0142 U+0027\n",
        "\n",
        "Character 'Ts' -> UTF-8 Code: U+0054 U+0073\n",
        "\n",
        "Character 'Ts'' -> UTF-8 Code: U+0054 U+0073 U+0027\n",
        "\n",
        "Character 'W' -> UTF-8 Code: U+0057\n",
        "\n",
        "Character 'X' -> UTF-8 Code: U+0058\n",
        "\n",
        "Character 'Y' -> UTF-8 Code: U+0059\n",
        "\n",
        "Character 'Z' -> UTF-8 Code: U+005A\n",
        "\n",
        "Character 'a' -> UTF-8 Code: U+0061\n",
        "\n",
        "Character 'á' -> UTF-8 Code: U+00E1\n",
        "\n",
        "Character 'ą' -> UTF-8 Code: U+0105\n",
        "\n",
        "Character 'ą́' -> UTF-8 Code: U+0105 U+0301\n",
        "\n",
        "Character 'é' -> UTF-8 Code: U+00E9\n",
        "\n",
        "Character 'ę' -> UTF-8 Code: U+0119\n",
        "\n",
        "Character 'ę́' -> UTF-8 Code: U+0119 U+0301\n",
        "\n",
        "Character 'í' -> UTF-8 Code: U+00ED\n",
        "\n",
        "Character 'į' -> UTF-8 Code: U+012F\n",
        "\n",
        "Character 'į́' -> UTF-8 Code: U+012F U+0301\n",
        "\n",
        "Character 'ó' -> UTF-8 Code: U+00F3\n",
        "\n",
        "Character 'ǫ' -> UTF-8 Code: U+01EB\n",
        "\n",
        "Character 'ǫ́' -> UTF-8 Code: U+01EB U+0301\n",
        "\n",
        "Character 'ń' -> UTF-8 Code: U+0144"
      ],
      "metadata": {
        "id": "JPmvIFoCknBv"
      }
    }
  ]
}