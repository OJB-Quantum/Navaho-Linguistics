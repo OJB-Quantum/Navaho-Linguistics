{
  "nbformat": 4,
  "nbformat_minor": 0,
  "metadata": {
    "colab": {
      "provenance": [],
      "include_colab_link": true
    },
    "kernelspec": {
      "name": "python3",
      "display_name": "Python 3"
    },
    "language_info": {
      "name": "python"
    }
  },
  "cells": [
    {
      "cell_type": "markdown",
      "metadata": {
        "id": "view-in-github",
        "colab_type": "text"
      },
      "source": [
        "<a href=\"https://colab.research.google.com/github/OJB-Quantum/Navaho-Linguistics/blob/main/Python%20Scripts%20for%20Navaho%20Linguistics/Navaho_Characters_UTF8_Conversion_U_Plus_Notation.ipynb\" target=\"_parent\"><img src=\"https://colab.research.google.com/assets/colab-badge.svg\" alt=\"Open In Colab\"/></a>"
      ]
    },
    {
      "cell_type": "markdown",
      "source": [
        "### This notebook shows example scripts in Python to convert Navaho characters into \"U+\" notation Unicode, based on UTF-8. The motivation comes from its convenience in character generation when one desires to correctly spell Navaho words. This form of character generation may provide a robust sequence of protocols for practical language usage in digital form, further strengthening any future initiatives to automate Navaho translation."
      ],
      "metadata": {
        "id": "bAtJNdRpab87"
      }
    },
    {
      "cell_type": "code",
      "source": [
        "!pip install openpyxl"
      ],
      "metadata": {
        "colab": {
          "base_uri": "https://localhost:8080/"
        },
        "id": "BRHQqT6aIeOF",
        "outputId": "29ffd9c2-01b6-4c93-bac5-ff132f457496"
      },
      "execution_count": 1,
      "outputs": [
        {
          "output_type": "stream",
          "name": "stdout",
          "text": [
            "Requirement already satisfied: openpyxl in /usr/local/lib/python3.12/dist-packages (3.1.5)\n",
            "Requirement already satisfied: et-xmlfile in /usr/local/lib/python3.12/dist-packages (from openpyxl) (2.0.0)\n"
          ]
        }
      ]
    },
    {
      "cell_type": "markdown",
      "source": [
        "If running the code below on your own, be sure to upload the XLSX file to Colab or your IPYNB folder.\n",
        "\n",
        "The location of the XLSX file that will work with the code below is located at (https://github.com/OJB-Quantum/Navaho-Linguistics/blob/main/Python%20Scripts%20for%20Navaho%20Linguistics/Navaho_Characters_UTF8_Conversion_v2.xlsx)"
      ],
      "metadata": {
        "id": "oKGQnS9-t1eS"
      }
    },
    {
      "cell_type": "code",
      "source": [
        "# Convert based on XLSX file type, where a list of Navaho characters may be stored. The output is a txt file.\n",
        "# You will notice that for some reason, the (ǫ́) character is having some problems breaking down into \"U+\" notation.\n",
        "# Any character complications that may arise are likely due to a string of character components being greater than 1.\n",
        "# If there are more than 1 character components, then the solution is to string together 2 or more Unicode notations together.\n",
        "# This will result in a single character output with all the combined components from the Unicodes that make up that character.\n",
        "# In most cases, however, only 1 Unicode notation is required to generate a character.\n",
        "# Examples of Unicode formats...\n",
        "# \"U+\" notation for 1 Unicode string vs 2 Unicode strings vs. 3 Unicode strings (respectively): U+0041 vs. U+0105 U+0301 vs. U+0043 U+0068 U+0027  # Each of these are different characters.\n",
        "# \"\\u\" notation for 1 Unicode string vs 2 Unicode strings vs. 3 Unicode strings (respectively): \\u0041 vs. \\u0105\\u0301 vs. \\u0043\\u0068\\u0027 # Each of these are different characters as well.\n",
        "\n",
        "import openpyxl\n",
        "\n",
        "def convert_to_utf8_code(input_file, output_file):\n",
        "    # Load the workbook and select the first sheet\n",
        "    workbook = openpyxl.load_workbook(input_file)\n",
        "    first_sheet = workbook.worksheets[0]\n",
        "\n",
        "    with open(output_file, mode='w', encoding='utf-8') as output:\n",
        "        for row in first_sheet.iter_rows(min_row=1, max_col=1, values_only=True):\n",
        "            text = row[0]\n",
        "            if text is not None:\n",
        "                for char in text:\n",
        "                    utf8_code = \"U+{:04X}\".format(ord(char))\n",
        "                    output.write(utf8_code + '\\n')\n",
        "                    print(f\"Character '{char}' -> UTF-8 Code: {utf8_code}\")\n",
        "\n",
        "# Example usage\n",
        "convert_to_utf8_code('Navaho_Characters_UTF8_Conversion_v2.xlsx', 'NV_UTF8_UPLUS_v3.txt')"
      ],
      "metadata": {
        "colab": {
          "base_uri": "https://localhost:8080/"
        },
        "id": "GJWLgBS2J-Rb",
        "outputId": "0cc8d456-36c5-4ba2-bc71-36fedfd8f910"
      },
      "execution_count": 3,
      "outputs": [
        {
          "output_type": "stream",
          "name": "stdout",
          "text": [
            "Character 'N' -> UTF-8 Code: U+004E\n",
            "Character 'a' -> UTF-8 Code: U+0061\n",
            "Character 'v' -> UTF-8 Code: U+0076\n",
            "Character 'a' -> UTF-8 Code: U+0061\n",
            "Character 'h' -> UTF-8 Code: U+0068\n",
            "Character 'o' -> UTF-8 Code: U+006F\n",
            "Character ' ' -> UTF-8 Code: U+0020\n",
            "Character 'C' -> UTF-8 Code: U+0043\n",
            "Character 'h' -> UTF-8 Code: U+0068\n",
            "Character 'a' -> UTF-8 Code: U+0061\n",
            "Character 'r' -> UTF-8 Code: U+0072\n",
            "Character 'a' -> UTF-8 Code: U+0061\n",
            "Character 'c' -> UTF-8 Code: U+0063\n",
            "Character 't' -> UTF-8 Code: U+0074\n",
            "Character 'e' -> UTF-8 Code: U+0065\n",
            "Character 'r' -> UTF-8 Code: U+0072\n",
            "Character 'A' -> UTF-8 Code: U+0041\n",
            "Character 'a' -> UTF-8 Code: U+0061\n",
            "Character 'B' -> UTF-8 Code: U+0042\n",
            "Character 'b' -> UTF-8 Code: U+0062\n",
            "Character 'C' -> UTF-8 Code: U+0043\n",
            "Character 'h' -> UTF-8 Code: U+0068\n",
            "Character 'c' -> UTF-8 Code: U+0063\n",
            "Character 'h' -> UTF-8 Code: U+0068\n",
            "Character 'C' -> UTF-8 Code: U+0043\n",
            "Character 'h' -> UTF-8 Code: U+0068\n",
            "Character ''' -> UTF-8 Code: U+0027\n",
            "Character 'c' -> UTF-8 Code: U+0063\n",
            "Character 'h' -> UTF-8 Code: U+0068\n",
            "Character ''' -> UTF-8 Code: U+0027\n",
            "Character 'D' -> UTF-8 Code: U+0044\n",
            "Character 'd' -> UTF-8 Code: U+0064\n",
            "Character 'D' -> UTF-8 Code: U+0044\n",
            "Character 'l' -> UTF-8 Code: U+006C\n",
            "Character 'd' -> UTF-8 Code: U+0064\n",
            "Character 'l' -> UTF-8 Code: U+006C\n",
            "Character 'D' -> UTF-8 Code: U+0044\n",
            "Character 'z' -> UTF-8 Code: U+007A\n",
            "Character 'd' -> UTF-8 Code: U+0064\n",
            "Character 'z' -> UTF-8 Code: U+007A\n",
            "Character 'E' -> UTF-8 Code: U+0045\n",
            "Character 'e' -> UTF-8 Code: U+0065\n",
            "Character 'G' -> UTF-8 Code: U+0047\n",
            "Character 'g' -> UTF-8 Code: U+0067\n",
            "Character 'G' -> UTF-8 Code: U+0047\n",
            "Character 'h' -> UTF-8 Code: U+0068\n",
            "Character 'g' -> UTF-8 Code: U+0067\n",
            "Character 'h' -> UTF-8 Code: U+0068\n",
            "Character 'H' -> UTF-8 Code: U+0048\n",
            "Character 'h' -> UTF-8 Code: U+0068\n",
            "Character 'H' -> UTF-8 Code: U+0048\n",
            "Character 'w' -> UTF-8 Code: U+0077\n",
            "Character 'h' -> UTF-8 Code: U+0068\n",
            "Character 'w' -> UTF-8 Code: U+0077\n",
            "Character 'I' -> UTF-8 Code: U+0049\n",
            "Character 'i' -> UTF-8 Code: U+0069\n",
            "Character 'J' -> UTF-8 Code: U+004A\n",
            "Character 'j' -> UTF-8 Code: U+006A\n",
            "Character 'K' -> UTF-8 Code: U+004B\n",
            "Character 'k' -> UTF-8 Code: U+006B\n",
            "Character 'K' -> UTF-8 Code: U+004B\n",
            "Character ''' -> UTF-8 Code: U+0027\n",
            "Character 'k' -> UTF-8 Code: U+006B\n",
            "Character ''' -> UTF-8 Code: U+0027\n",
            "Character 'K' -> UTF-8 Code: U+004B\n",
            "Character 'w' -> UTF-8 Code: U+0077\n",
            "Character 'k' -> UTF-8 Code: U+006B\n",
            "Character 'w' -> UTF-8 Code: U+0077\n",
            "Character 'L' -> UTF-8 Code: U+004C\n",
            "Character 'l' -> UTF-8 Code: U+006C\n",
            "Character 'Ł' -> UTF-8 Code: U+0141\n",
            "Character 'ł' -> UTF-8 Code: U+0142\n",
            "Character 'M' -> UTF-8 Code: U+004D\n",
            "Character 'm' -> UTF-8 Code: U+006D\n",
            "Character 'N' -> UTF-8 Code: U+004E\n",
            "Character 'n' -> UTF-8 Code: U+006E\n",
            "Character 'O' -> UTF-8 Code: U+004F\n",
            "Character 'o' -> UTF-8 Code: U+006F\n",
            "Character 'S' -> UTF-8 Code: U+0053\n",
            "Character 's' -> UTF-8 Code: U+0073\n",
            "Character 'S' -> UTF-8 Code: U+0053\n",
            "Character 'h' -> UTF-8 Code: U+0068\n",
            "Character 's' -> UTF-8 Code: U+0073\n",
            "Character 'h' -> UTF-8 Code: U+0068\n",
            "Character 'T' -> UTF-8 Code: U+0054\n",
            "Character 't' -> UTF-8 Code: U+0074\n",
            "Character 'T' -> UTF-8 Code: U+0054\n",
            "Character ''' -> UTF-8 Code: U+0027\n",
            "Character 't' -> UTF-8 Code: U+0074\n",
            "Character ''' -> UTF-8 Code: U+0027\n",
            "Character 'T' -> UTF-8 Code: U+0054\n",
            "Character 'ł' -> UTF-8 Code: U+0142\n",
            "Character 't' -> UTF-8 Code: U+0074\n",
            "Character 'ł' -> UTF-8 Code: U+0142\n",
            "Character 'T' -> UTF-8 Code: U+0054\n",
            "Character 'ł' -> UTF-8 Code: U+0142\n",
            "Character ''' -> UTF-8 Code: U+0027\n",
            "Character 't' -> UTF-8 Code: U+0074\n",
            "Character 'ł' -> UTF-8 Code: U+0142\n",
            "Character ''' -> UTF-8 Code: U+0027\n",
            "Character 'T' -> UTF-8 Code: U+0054\n",
            "Character 's' -> UTF-8 Code: U+0073\n",
            "Character 't' -> UTF-8 Code: U+0074\n",
            "Character 's' -> UTF-8 Code: U+0073\n",
            "Character 'T' -> UTF-8 Code: U+0054\n",
            "Character 's' -> UTF-8 Code: U+0073\n",
            "Character ''' -> UTF-8 Code: U+0027\n",
            "Character 't' -> UTF-8 Code: U+0074\n",
            "Character 's' -> UTF-8 Code: U+0073\n",
            "Character ''' -> UTF-8 Code: U+0027\n",
            "Character 'W' -> UTF-8 Code: U+0057\n",
            "Character 'w' -> UTF-8 Code: U+0077\n",
            "Character 'X' -> UTF-8 Code: U+0058\n",
            "Character 'x' -> UTF-8 Code: U+0078\n",
            "Character 'Y' -> UTF-8 Code: U+0059\n",
            "Character 'y' -> UTF-8 Code: U+0079\n",
            "Character 'Z' -> UTF-8 Code: U+005A\n",
            "Character 'z' -> UTF-8 Code: U+007A\n",
            "Character '.' -> UTF-8 Code: U+002E\n",
            "Character '.' -> UTF-8 Code: U+002E\n",
            "Character '.' -> UTF-8 Code: U+002E\n",
            "Character 'a' -> UTF-8 Code: U+0061\n",
            "Character 'a' -> UTF-8 Code: U+0061\n",
            "Character 'á' -> UTF-8 Code: U+00E1\n",
            "Character 'á' -> UTF-8 Code: U+00E1\n",
            "Character 'á' -> UTF-8 Code: U+00E1\n",
            "Character 'ą' -> UTF-8 Code: U+0105\n",
            "Character 'ą' -> UTF-8 Code: U+0105\n",
            "Character 'ą' -> UTF-8 Code: U+0105\n",
            "Character 'ą' -> UTF-8 Code: U+0105\n",
            "Character '́' -> UTF-8 Code: U+0301\n",
            "Character 'ą' -> UTF-8 Code: U+0105\n",
            "Character '́' -> UTF-8 Code: U+0301\n",
            "Character 'ą' -> UTF-8 Code: U+0105\n",
            "Character '́' -> UTF-8 Code: U+0301\n",
            "Character '.' -> UTF-8 Code: U+002E\n",
            "Character '.' -> UTF-8 Code: U+002E\n",
            "Character '.' -> UTF-8 Code: U+002E\n",
            "Character 'a' -> UTF-8 Code: U+0061\n",
            "Character 'á' -> UTF-8 Code: U+00E1\n",
            "Character 'a' -> UTF-8 Code: U+0061\n",
            "Character 'ą' -> UTF-8 Code: U+0105\n",
            "Character 'a' -> UTF-8 Code: U+0061\n",
            "Character 'ą' -> UTF-8 Code: U+0105\n",
            "Character '́' -> UTF-8 Code: U+0301\n",
            "Character '.' -> UTF-8 Code: U+002E\n",
            "Character '.' -> UTF-8 Code: U+002E\n",
            "Character '.' -> UTF-8 Code: U+002E\n",
            "Character 'á' -> UTF-8 Code: U+00E1\n",
            "Character 'a' -> UTF-8 Code: U+0061\n",
            "Character 'á' -> UTF-8 Code: U+00E1\n",
            "Character 'ą' -> UTF-8 Code: U+0105\n",
            "Character 'á' -> UTF-8 Code: U+00E1\n",
            "Character 'ą' -> UTF-8 Code: U+0105\n",
            "Character '́' -> UTF-8 Code: U+0301\n",
            "Character '.' -> UTF-8 Code: U+002E\n",
            "Character '.' -> UTF-8 Code: U+002E\n",
            "Character '.' -> UTF-8 Code: U+002E\n",
            "Character 'ą' -> UTF-8 Code: U+0105\n",
            "Character 'a' -> UTF-8 Code: U+0061\n",
            "Character 'ą' -> UTF-8 Code: U+0105\n",
            "Character 'á' -> UTF-8 Code: U+00E1\n",
            "Character 'ą' -> UTF-8 Code: U+0105\n",
            "Character 'ą' -> UTF-8 Code: U+0105\n",
            "Character '́' -> UTF-8 Code: U+0301\n",
            "Character '.' -> UTF-8 Code: U+002E\n",
            "Character '.' -> UTF-8 Code: U+002E\n",
            "Character '.' -> UTF-8 Code: U+002E\n",
            "Character 'ą' -> UTF-8 Code: U+0105\n",
            "Character '́' -> UTF-8 Code: U+0301\n",
            "Character 'a' -> UTF-8 Code: U+0061\n",
            "Character 'ą' -> UTF-8 Code: U+0105\n",
            "Character '́' -> UTF-8 Code: U+0301\n",
            "Character 'á' -> UTF-8 Code: U+00E1\n",
            "Character 'ą' -> UTF-8 Code: U+0105\n",
            "Character '́' -> UTF-8 Code: U+0301\n",
            "Character 'ą' -> UTF-8 Code: U+0105\n",
            "Character '.' -> UTF-8 Code: U+002E\n",
            "Character '.' -> UTF-8 Code: U+002E\n",
            "Character '.' -> UTF-8 Code: U+002E\n",
            "Character 'e' -> UTF-8 Code: U+0065\n",
            "Character 'e' -> UTF-8 Code: U+0065\n",
            "Character 'é' -> UTF-8 Code: U+00E9\n",
            "Character 'é' -> UTF-8 Code: U+00E9\n",
            "Character 'é' -> UTF-8 Code: U+00E9\n",
            "Character 'ę' -> UTF-8 Code: U+0119\n",
            "Character 'ę' -> UTF-8 Code: U+0119\n",
            "Character 'ę' -> UTF-8 Code: U+0119\n",
            "Character 'ę' -> UTF-8 Code: U+0119\n",
            "Character '́' -> UTF-8 Code: U+0301\n",
            "Character 'ę' -> UTF-8 Code: U+0119\n",
            "Character '́' -> UTF-8 Code: U+0301\n",
            "Character 'ę' -> UTF-8 Code: U+0119\n",
            "Character '́' -> UTF-8 Code: U+0301\n",
            "Character '.' -> UTF-8 Code: U+002E\n",
            "Character '.' -> UTF-8 Code: U+002E\n",
            "Character '.' -> UTF-8 Code: U+002E\n",
            "Character 'e' -> UTF-8 Code: U+0065\n",
            "Character 'é' -> UTF-8 Code: U+00E9\n",
            "Character 'e' -> UTF-8 Code: U+0065\n",
            "Character 'ę' -> UTF-8 Code: U+0119\n",
            "Character 'e' -> UTF-8 Code: U+0065\n",
            "Character 'ę' -> UTF-8 Code: U+0119\n",
            "Character '́' -> UTF-8 Code: U+0301\n",
            "Character '.' -> UTF-8 Code: U+002E\n",
            "Character '.' -> UTF-8 Code: U+002E\n",
            "Character '.' -> UTF-8 Code: U+002E\n",
            "Character 'é' -> UTF-8 Code: U+00E9\n",
            "Character 'e' -> UTF-8 Code: U+0065\n",
            "Character 'é' -> UTF-8 Code: U+00E9\n",
            "Character 'ę' -> UTF-8 Code: U+0119\n",
            "Character 'é' -> UTF-8 Code: U+00E9\n",
            "Character 'ę' -> UTF-8 Code: U+0119\n",
            "Character '́' -> UTF-8 Code: U+0301\n",
            "Character '.' -> UTF-8 Code: U+002E\n",
            "Character '.' -> UTF-8 Code: U+002E\n",
            "Character '.' -> UTF-8 Code: U+002E\n",
            "Character 'ę' -> UTF-8 Code: U+0119\n",
            "Character 'e' -> UTF-8 Code: U+0065\n",
            "Character 'ę' -> UTF-8 Code: U+0119\n",
            "Character 'é' -> UTF-8 Code: U+00E9\n",
            "Character 'ę' -> UTF-8 Code: U+0119\n",
            "Character 'ę' -> UTF-8 Code: U+0119\n",
            "Character '́' -> UTF-8 Code: U+0301\n",
            "Character '.' -> UTF-8 Code: U+002E\n",
            "Character '.' -> UTF-8 Code: U+002E\n",
            "Character '.' -> UTF-8 Code: U+002E\n",
            "Character 'ę' -> UTF-8 Code: U+0119\n",
            "Character '́' -> UTF-8 Code: U+0301\n",
            "Character 'e' -> UTF-8 Code: U+0065\n",
            "Character 'ę' -> UTF-8 Code: U+0119\n",
            "Character '́' -> UTF-8 Code: U+0301\n",
            "Character 'ę' -> UTF-8 Code: U+0119\n",
            "Character 'ę' -> UTF-8 Code: U+0119\n",
            "Character '́' -> UTF-8 Code: U+0301\n",
            "Character 'é' -> UTF-8 Code: U+00E9\n",
            "Character '.' -> UTF-8 Code: U+002E\n",
            "Character '.' -> UTF-8 Code: U+002E\n",
            "Character '.' -> UTF-8 Code: U+002E\n",
            "Character 'i' -> UTF-8 Code: U+0069\n",
            "Character 'i' -> UTF-8 Code: U+0069\n",
            "Character 'í' -> UTF-8 Code: U+00ED\n",
            "Character 'í' -> UTF-8 Code: U+00ED\n",
            "Character 'í' -> UTF-8 Code: U+00ED\n",
            "Character 'į' -> UTF-8 Code: U+012F\n",
            "Character 'į' -> UTF-8 Code: U+012F\n",
            "Character 'į' -> UTF-8 Code: U+012F\n",
            "Character 'į' -> UTF-8 Code: U+012F\n",
            "Character '́' -> UTF-8 Code: U+0301\n",
            "Character 'į' -> UTF-8 Code: U+012F\n",
            "Character '́' -> UTF-8 Code: U+0301\n",
            "Character 'į' -> UTF-8 Code: U+012F\n",
            "Character '́' -> UTF-8 Code: U+0301\n",
            "Character '.' -> UTF-8 Code: U+002E\n",
            "Character '.' -> UTF-8 Code: U+002E\n",
            "Character '.' -> UTF-8 Code: U+002E\n",
            "Character 'i' -> UTF-8 Code: U+0069\n",
            "Character 'í' -> UTF-8 Code: U+00ED\n",
            "Character 'i' -> UTF-8 Code: U+0069\n",
            "Character 'į' -> UTF-8 Code: U+012F\n",
            "Character 'i' -> UTF-8 Code: U+0069\n",
            "Character 'į' -> UTF-8 Code: U+012F\n",
            "Character '́' -> UTF-8 Code: U+0301\n",
            "Character '.' -> UTF-8 Code: U+002E\n",
            "Character '.' -> UTF-8 Code: U+002E\n",
            "Character '.' -> UTF-8 Code: U+002E\n",
            "Character 'í' -> UTF-8 Code: U+00ED\n",
            "Character 'i' -> UTF-8 Code: U+0069\n",
            "Character 'í' -> UTF-8 Code: U+00ED\n",
            "Character 'į' -> UTF-8 Code: U+012F\n",
            "Character 'í' -> UTF-8 Code: U+00ED\n",
            "Character 'į' -> UTF-8 Code: U+012F\n",
            "Character '́' -> UTF-8 Code: U+0301\n",
            "Character '.' -> UTF-8 Code: U+002E\n",
            "Character '.' -> UTF-8 Code: U+002E\n",
            "Character '.' -> UTF-8 Code: U+002E\n",
            "Character 'į' -> UTF-8 Code: U+012F\n",
            "Character 'i' -> UTF-8 Code: U+0069\n",
            "Character 'į' -> UTF-8 Code: U+012F\n",
            "Character 'í' -> UTF-8 Code: U+00ED\n",
            "Character 'į' -> UTF-8 Code: U+012F\n",
            "Character 'į' -> UTF-8 Code: U+012F\n",
            "Character '́' -> UTF-8 Code: U+0301\n",
            "Character '.' -> UTF-8 Code: U+002E\n",
            "Character '.' -> UTF-8 Code: U+002E\n",
            "Character '.' -> UTF-8 Code: U+002E\n",
            "Character 'į' -> UTF-8 Code: U+012F\n",
            "Character '́' -> UTF-8 Code: U+0301\n",
            "Character 'i' -> UTF-8 Code: U+0069\n",
            "Character 'į' -> UTF-8 Code: U+012F\n",
            "Character '́' -> UTF-8 Code: U+0301\n",
            "Character 'í' -> UTF-8 Code: U+00ED\n",
            "Character 'į' -> UTF-8 Code: U+012F\n",
            "Character '́' -> UTF-8 Code: U+0301\n",
            "Character 'į' -> UTF-8 Code: U+012F\n",
            "Character '.' -> UTF-8 Code: U+002E\n",
            "Character '.' -> UTF-8 Code: U+002E\n",
            "Character '.' -> UTF-8 Code: U+002E\n",
            "Character 'o' -> UTF-8 Code: U+006F\n",
            "Character 'o' -> UTF-8 Code: U+006F\n",
            "Character 'ó' -> UTF-8 Code: U+00F3\n",
            "Character 'ó' -> UTF-8 Code: U+00F3\n",
            "Character 'ó' -> UTF-8 Code: U+00F3\n",
            "Character 'ǫ' -> UTF-8 Code: U+01EB\n",
            "Character 'ǫ' -> UTF-8 Code: U+01EB\n",
            "Character 'ǫ' -> UTF-8 Code: U+01EB\n",
            "Character 'ǫ' -> UTF-8 Code: U+01EB\n",
            "Character '́' -> UTF-8 Code: U+0301\n",
            "Character 'ǫ' -> UTF-8 Code: U+01EB\n",
            "Character '́' -> UTF-8 Code: U+0301\n",
            "Character 'ǫ' -> UTF-8 Code: U+01EB\n",
            "Character '́' -> UTF-8 Code: U+0301\n",
            "Character '.' -> UTF-8 Code: U+002E\n",
            "Character '.' -> UTF-8 Code: U+002E\n",
            "Character '.' -> UTF-8 Code: U+002E\n",
            "Character 'o' -> UTF-8 Code: U+006F\n",
            "Character 'ó' -> UTF-8 Code: U+00F3\n",
            "Character 'o' -> UTF-8 Code: U+006F\n",
            "Character 'ǫ' -> UTF-8 Code: U+01EB\n",
            "Character 'o' -> UTF-8 Code: U+006F\n",
            "Character 'ǫ' -> UTF-8 Code: U+01EB\n",
            "Character '́' -> UTF-8 Code: U+0301\n",
            "Character '.' -> UTF-8 Code: U+002E\n",
            "Character '.' -> UTF-8 Code: U+002E\n",
            "Character '.' -> UTF-8 Code: U+002E\n",
            "Character 'ó' -> UTF-8 Code: U+00F3\n",
            "Character 'o' -> UTF-8 Code: U+006F\n",
            "Character 'ó' -> UTF-8 Code: U+00F3\n",
            "Character 'ǫ' -> UTF-8 Code: U+01EB\n",
            "Character 'ó' -> UTF-8 Code: U+00F3\n",
            "Character 'ǫ' -> UTF-8 Code: U+01EB\n",
            "Character '́' -> UTF-8 Code: U+0301\n",
            "Character '.' -> UTF-8 Code: U+002E\n",
            "Character '.' -> UTF-8 Code: U+002E\n",
            "Character '.' -> UTF-8 Code: U+002E\n",
            "Character 'ǫ' -> UTF-8 Code: U+01EB\n",
            "Character 'o' -> UTF-8 Code: U+006F\n",
            "Character 'ǫ' -> UTF-8 Code: U+01EB\n",
            "Character 'ó' -> UTF-8 Code: U+00F3\n",
            "Character 'ǫ' -> UTF-8 Code: U+01EB\n",
            "Character 'ǫ' -> UTF-8 Code: U+01EB\n",
            "Character '́' -> UTF-8 Code: U+0301\n",
            "Character '.' -> UTF-8 Code: U+002E\n",
            "Character '.' -> UTF-8 Code: U+002E\n",
            "Character '.' -> UTF-8 Code: U+002E\n",
            "Character 'ǫ' -> UTF-8 Code: U+01EB\n",
            "Character '́' -> UTF-8 Code: U+0301\n",
            "Character 'o' -> UTF-8 Code: U+006F\n",
            "Character 'ǫ' -> UTF-8 Code: U+01EB\n",
            "Character '́' -> UTF-8 Code: U+0301\n",
            "Character 'ǫ' -> UTF-8 Code: U+01EB\n",
            "Character 'ǫ' -> UTF-8 Code: U+01EB\n",
            "Character '́' -> UTF-8 Code: U+0301\n",
            "Character 'ó' -> UTF-8 Code: U+00F3\n",
            "Character '.' -> UTF-8 Code: U+002E\n",
            "Character '.' -> UTF-8 Code: U+002E\n",
            "Character '.' -> UTF-8 Code: U+002E\n",
            "Character 'ń' -> UTF-8 Code: U+0144\n"
          ]
        }
      ]
    },
    {
      "cell_type": "markdown",
      "source": [
        "Note:\n",
        "The character ǫ́ can be represented in Unicode. Here are the Unicode representations for the character:\n",
        "\n",
        "Composed of normalised NFC (Latin Extended-A, Combining Diacritical Marks):\n",
        "\n",
        "Capital Ǫ́: U+01EA U+0301\n",
        "Small ǫ́: U+01EB U+0301"
      ],
      "metadata": {
        "id": "fTrv87HcaZy-"
      }
    },
    {
      "cell_type": "markdown",
      "source": [
        "The \"U+\" notation equivalent of the codes below is \"\\u\".\n",
        "\n",
        "For example:\n",
        "U+0105 U+0301 = \\u0105\\u0301 # Notice the space.\n",
        "\n",
        "---\n",
        "\n"
      ],
      "metadata": {
        "id": "qT_-PZMriZVw"
      }
    },
    {
      "cell_type": "code",
      "source": [
        "print(\"\\u0105\\u0301\")"
      ],
      "metadata": {
        "colab": {
          "base_uri": "https://localhost:8080/"
        },
        "id": "lZGQ0bWEjVN7",
        "outputId": "c81bd907-201a-4fb9-91ff-f92f2eb318b3"
      },
      "execution_count": 4,
      "outputs": [
        {
          "output_type": "stream",
          "name": "stdout",
          "text": [
            "ą́\n"
          ]
        }
      ]
    },
    {
      "cell_type": "code",
      "source": [
        "print(\"\\u0119\\u0301\")"
      ],
      "metadata": {
        "colab": {
          "base_uri": "https://localhost:8080/"
        },
        "id": "w5k09tJ9jmGr",
        "outputId": "fa8512dc-a8d8-4cf0-c5f5-984c2a82d293"
      },
      "execution_count": 5,
      "outputs": [
        {
          "output_type": "stream",
          "name": "stdout",
          "text": [
            "ę́\n"
          ]
        }
      ]
    },
    {
      "cell_type": "code",
      "source": [
        "print(\"\\u012F\\u0301\")\n"
      ],
      "metadata": {
        "colab": {
          "base_uri": "https://localhost:8080/"
        },
        "id": "2gKr3BqDi-MD",
        "outputId": "398b1237-0de0-41ff-dcad-fcd823bcba34"
      },
      "execution_count": 6,
      "outputs": [
        {
          "output_type": "stream",
          "name": "stdout",
          "text": [
            "į́\n"
          ]
        }
      ]
    },
    {
      "cell_type": "code",
      "source": [
        "print(\"\\u01EB\\u0301\")"
      ],
      "metadata": {
        "colab": {
          "base_uri": "https://localhost:8080/"
        },
        "id": "Iwjz6v0ujFBW",
        "outputId": "ba9f446f-a32f-4b91-920d-5208c4b92e0a"
      },
      "execution_count": 7,
      "outputs": [
        {
          "output_type": "stream",
          "name": "stdout",
          "text": [
            "ǫ́\n"
          ]
        }
      ]
    },
    {
      "cell_type": "code",
      "source": [
        "print(\"\\u0043\\u0068\\u0027\")"
      ],
      "metadata": {
        "colab": {
          "base_uri": "https://localhost:8080/"
        },
        "id": "k2jQTBBunuD1",
        "outputId": "78e4ff3d-b20c-498c-ed19-fbe8c8af6572"
      },
      "execution_count": 8,
      "outputs": [
        {
          "output_type": "stream",
          "name": "stdout",
          "text": [
            "Ch'\n"
          ]
        }
      ]
    },
    {
      "cell_type": "code",
      "source": [
        "print(\"\\u0105\\u0301\\u0105\")"
      ],
      "metadata": {
        "colab": {
          "base_uri": "https://localhost:8080/"
        },
        "id": "DQfCAz8X2TvT",
        "outputId": "c23fa6e6-8b6d-4d71-aa15-21641827ded0"
      },
      "execution_count": 9,
      "outputs": [
        {
          "output_type": "stream",
          "name": "stdout",
          "text": [
            "ą́ą\n"
          ]
        }
      ]
    },
    {
      "cell_type": "code",
      "source": [
        "print(\"\\u0054\\u0142\\u0027\")"
      ],
      "metadata": {
        "id": "ha5sciCpPo63",
        "outputId": "d4fc8436-7b2d-4a2c-9650-e014f286fef4",
        "colab": {
          "base_uri": "https://localhost:8080/"
        }
      },
      "execution_count": 10,
      "outputs": [
        {
          "output_type": "stream",
          "name": "stdout",
          "text": [
            "Tł'\n"
          ]
        }
      ]
    },
    {
      "cell_type": "code",
      "source": [
        "# Here is a whole Navaho word represented in (UTF-8) Unicode\n",
        "\n",
        "print(\"\\u004E\\u0061\\u0062\\u00ED\\u006B\\u0027\\u00ED\\u0074\\u0073\\u00ED\\u0064\\u007A\\u00ED\\u0142\\u006B\\u0065\\u0065\\u0073\")\n",
        "# English meaning: careful thought or consideration"
      ],
      "metadata": {
        "id": "OgWqVkBumu5B",
        "outputId": "1df44834-16f9-4bcc-ac3f-1be5ad1294fd",
        "colab": {
          "base_uri": "https://localhost:8080/"
        }
      },
      "execution_count": 11,
      "outputs": [
        {
          "output_type": "stream",
          "name": "stdout",
          "text": [
            "Nabík'ítsídzíłkees\n"
          ]
        }
      ]
    },
    {
      "cell_type": "markdown",
      "source": [
        "## **A correction to all the characters above (excluding long vowels):**\n",
        "#### The idea is that you can generate long vowels by simply repeating or combining single vowels shown at the end of the list.\n",
        "_________________________________________________________________________\n",
        "\n",
        "Character 'A' -> UTF-8 Code: U+0041\n",
        "\n",
        "Character 'B' -> UTF-8 Code: U+0042\n",
        "\n",
        "Character 'Ch' -> UTF-8 Code: U+0043 U+0068\n",
        "\n",
        "Character 'Ch'' -> UTF-8 Code: U+0043 U+0068 U+0027\n",
        "\n",
        "Character 'D' -> UTF-8 Code: U+0044\n",
        "\n",
        "Character 'Dl' -> UTF-8 Code: U+0044 U+006C\n",
        "\n",
        "Character 'Dz' -> UTF-8 Code: U+0044 U+007A\n",
        "\n",
        "Character 'E' -> UTF-8 Code: U+0045\n",
        "\n",
        "Character 'G' -> UTF-8 Code: U+0047\n",
        "\n",
        "Character 'Gh' -> UTF-8 Code: U+0047 U+0068\n",
        "\n",
        "Character 'H' -> UTF-8 Code: U+0048\n",
        "\n",
        "Character 'Hw' -> UTF-8 Code: U+0048 U+0077\n",
        "\n",
        "Character 'I' -> UTF-8 Code: U+0049\n",
        "\n",
        "Character 'J' -> UTF-8 Code: U+004A\n",
        "\n",
        "Character 'K' -> UTF-8 Code: U+004B\n",
        "\n",
        "Character 'K'' -> UTF-8 Code: U+004B U+0027\n",
        "\n",
        "Character 'Kw' -> UTF-8 Code: U+004B U+0077\n",
        "\n",
        "Character 'L' -> UTF-8 Code: U+004C\n",
        "\n",
        "Character 'Ł' -> UTF-8 Code: U+0141\n",
        "\n",
        "Character 'M' -> UTF-8 Code: U+004D\n",
        "\n",
        "Character 'N' -> UTF-8 Code: U+004E\n",
        "\n",
        "Character 'O' -> UTF-8 Code: U+004F\n",
        "\n",
        "Character 'S' -> UTF-8 Code: U+0053\n",
        "\n",
        "Character 'Sh' -> UTF-8 Code: U+0053 U+0068\n",
        "\n",
        "Character 'T' -> UTF-8 Code: U+0054\n",
        "\n",
        "Character 'T'' -> UTF-8 Code: U+0054 U+0027\n",
        "\n",
        "Character 'Tł' -> UTF-8 Code: U+0054 U+0142\n",
        "\n",
        "Character 'Tł'' -> UTF-8 Code: U+0054 U+0142 U+0027\n",
        "\n",
        "Character 'Ts' -> UTF-8 Code: U+0054 U+0073\n",
        "\n",
        "Character 'Ts'' -> UTF-8 Code: U+0054 U+0073 U+0027\n",
        "\n",
        "Character 'W' -> UTF-8 Code: U+0057\n",
        "\n",
        "Character 'X' -> UTF-8 Code: U+0058\n",
        "\n",
        "Character 'Y' -> UTF-8 Code: U+0059\n",
        "\n",
        "Character 'Z' -> UTF-8 Code: U+005A\n",
        "\n",
        "Character 'a' -> UTF-8 Code: U+0061\n",
        "\n",
        "Character 'á' -> UTF-8 Code: U+00E1\n",
        "\n",
        "Character 'ą' -> UTF-8 Code: U+0105\n",
        "\n",
        "Character 'ą́' -> UTF-8 Code: U+0105 U+0301\n",
        "\n",
        "Character 'é' -> UTF-8 Code: U+00E9\n",
        "\n",
        "Character 'ę' -> UTF-8 Code: U+0119\n",
        "\n",
        "Character 'ę́' -> UTF-8 Code: U+0119 U+0301\n",
        "\n",
        "Character 'í' -> UTF-8 Code: U+00ED\n",
        "\n",
        "Character 'į' -> UTF-8 Code: U+012F\n",
        "\n",
        "Character 'į́' -> UTF-8 Code: U+012F U+0301\n",
        "\n",
        "Character 'ó' -> UTF-8 Code: U+00F3\n",
        "\n",
        "Character 'ǫ' -> UTF-8 Code: U+01EB\n",
        "\n",
        "Character 'ǫ́' -> UTF-8 Code: U+01EB U+0301\n",
        "\n",
        "Character 'ń' -> UTF-8 Code: U+0144"
      ],
      "metadata": {
        "id": "JPmvIFoCknBv"
      }
    }
  ]
}