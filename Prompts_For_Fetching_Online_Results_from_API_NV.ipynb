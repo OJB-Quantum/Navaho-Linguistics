{
  "nbformat": 4,
  "nbformat_minor": 0,
  "metadata": {
    "colab": {
      "provenance": [],
      "authorship_tag": "ABX9TyNu5+JDsfls8Dcw+xWz1LQD",
      "include_colab_link": true
    },
    "kernelspec": {
      "name": "python3",
      "display_name": "Python 3"
    },
    "language_info": {
      "name": "python"
    }
  },
  "cells": [
    {
      "cell_type": "markdown",
      "metadata": {
        "id": "view-in-github",
        "colab_type": "text"
      },
      "source": [
        "<a href=\"https://colab.research.google.com/github/OJB-Quantum/Navaho-Linguistics/blob/main/Prompts_For_Fetching_Online_Results_from_API_NV.ipynb\" target=\"_parent\"><img src=\"https://colab.research.google.com/assets/colab-badge.svg\" alt=\"Open In Colab\"/></a>"
      ]
    },
    {
      "cell_type": "code",
      "execution_count": 1,
      "metadata": {
        "colab": {
          "base_uri": "https://localhost:8080/"
        },
        "id": "jNaMNK7hFZjj",
        "outputId": "2e9ea540-7110-4871-fef7-438aabe9b6b8"
      },
      "outputs": [
        {
          "output_type": "stream",
          "name": "stdout",
          "text": [
            "Looking in indexes: https://pypi.org/simple, https://us-python.pkg.dev/colab-wheels/public/simple/\n",
            "Requirement already satisfied: requests in /usr/local/lib/python3.10/dist-packages (2.27.1)\n",
            "Requirement already satisfied: urllib3<1.27,>=1.21.1 in /usr/local/lib/python3.10/dist-packages (from requests) (1.26.15)\n",
            "Requirement already satisfied: certifi>=2017.4.17 in /usr/local/lib/python3.10/dist-packages (from requests) (2022.12.7)\n",
            "Requirement already satisfied: charset-normalizer~=2.0.0 in /usr/local/lib/python3.10/dist-packages (from requests) (2.0.12)\n",
            "Requirement already satisfied: idna<4,>=2.5 in /usr/local/lib/python3.10/dist-packages (from requests) (3.4)\n"
          ]
        }
      ],
      "source": [
        "# Install a pip package in the current Jupyter kernel\n",
        "import sys\n",
        "!{sys.executable} -m pip install requests"
      ]
    },
    {
      "cell_type": "code",
      "source": [
        "pip install wikipedia-api"
      ],
      "metadata": {
        "colab": {
          "base_uri": "https://localhost:8080/"
        },
        "id": "uOHiQNmwFfRX",
        "outputId": "bc3b9c69-57ff-4db9-b5f2-2084209d426c"
      },
      "execution_count": 2,
      "outputs": [
        {
          "output_type": "stream",
          "name": "stdout",
          "text": [
            "Looking in indexes: https://pypi.org/simple, https://us-python.pkg.dev/colab-wheels/public/simple/\n",
            "Collecting wikipedia-api\n",
            "  Downloading Wikipedia_API-0.5.8-py3-none-any.whl (13 kB)\n",
            "Requirement already satisfied: requests in /usr/local/lib/python3.10/dist-packages (from wikipedia-api) (2.27.1)\n",
            "Requirement already satisfied: urllib3<1.27,>=1.21.1 in /usr/local/lib/python3.10/dist-packages (from requests->wikipedia-api) (1.26.15)\n",
            "Requirement already satisfied: certifi>=2017.4.17 in /usr/local/lib/python3.10/dist-packages (from requests->wikipedia-api) (2022.12.7)\n",
            "Requirement already satisfied: charset-normalizer~=2.0.0 in /usr/local/lib/python3.10/dist-packages (from requests->wikipedia-api) (2.0.12)\n",
            "Requirement already satisfied: idna<4,>=2.5 in /usr/local/lib/python3.10/dist-packages (from requests->wikipedia-api) (3.4)\n",
            "Installing collected packages: wikipedia-api\n",
            "Successfully installed wikipedia-api-0.5.8\n"
          ]
        }
      ]
    },
    {
      "cell_type": "code",
      "source": [
        "pip install transformers"
      ],
      "metadata": {
        "colab": {
          "base_uri": "https://localhost:8080/"
        },
        "id": "ydbk1BRDFfzl",
        "outputId": "902c2ac0-3aba-4fdb-c330-2a56fd98e841"
      },
      "execution_count": 3,
      "outputs": [
        {
          "output_type": "stream",
          "name": "stdout",
          "text": [
            "Looking in indexes: https://pypi.org/simple, https://us-python.pkg.dev/colab-wheels/public/simple/\n",
            "Collecting transformers\n",
            "  Downloading transformers-4.30.1-py3-none-any.whl (7.2 MB)\n",
            "\u001b[2K     \u001b[90m━━━━━━━━━━━━━━━━━━━━━━━━━━━━━━━━━━━━━━━━\u001b[0m \u001b[32m7.2/7.2 MB\u001b[0m \u001b[31m84.0 MB/s\u001b[0m eta \u001b[36m0:00:00\u001b[0m\n",
            "\u001b[?25hRequirement already satisfied: filelock in /usr/local/lib/python3.10/dist-packages (from transformers) (3.12.0)\n",
            "Collecting huggingface-hub<1.0,>=0.14.1 (from transformers)\n",
            "  Downloading huggingface_hub-0.15.1-py3-none-any.whl (236 kB)\n",
            "\u001b[2K     \u001b[90m━━━━━━━━━━━━━━━━━━━━━━━━━━━━━━━━━━━━━━\u001b[0m \u001b[32m236.8/236.8 kB\u001b[0m \u001b[31m28.9 MB/s\u001b[0m eta \u001b[36m0:00:00\u001b[0m\n",
            "\u001b[?25hRequirement already satisfied: numpy>=1.17 in /usr/local/lib/python3.10/dist-packages (from transformers) (1.22.4)\n",
            "Requirement already satisfied: packaging>=20.0 in /usr/local/lib/python3.10/dist-packages (from transformers) (23.1)\n",
            "Requirement already satisfied: pyyaml>=5.1 in /usr/local/lib/python3.10/dist-packages (from transformers) (6.0)\n",
            "Requirement already satisfied: regex!=2019.12.17 in /usr/local/lib/python3.10/dist-packages (from transformers) (2022.10.31)\n",
            "Requirement already satisfied: requests in /usr/local/lib/python3.10/dist-packages (from transformers) (2.27.1)\n",
            "Collecting tokenizers!=0.11.3,<0.14,>=0.11.1 (from transformers)\n",
            "  Downloading tokenizers-0.13.3-cp310-cp310-manylinux_2_17_x86_64.manylinux2014_x86_64.whl (7.8 MB)\n",
            "\u001b[2K     \u001b[90m━━━━━━━━━━━━━━━━━━━━━━━━━━━━━━━━━━━━━━━━\u001b[0m \u001b[32m7.8/7.8 MB\u001b[0m \u001b[31m126.8 MB/s\u001b[0m eta \u001b[36m0:00:00\u001b[0m\n",
            "\u001b[?25hCollecting safetensors>=0.3.1 (from transformers)\n",
            "  Downloading safetensors-0.3.1-cp310-cp310-manylinux_2_17_x86_64.manylinux2014_x86_64.whl (1.3 MB)\n",
            "\u001b[2K     \u001b[90m━━━━━━━━━━━━━━━━━━━━━━━━━━━━━━━━━━━━━━━━\u001b[0m \u001b[32m1.3/1.3 MB\u001b[0m \u001b[31m86.3 MB/s\u001b[0m eta \u001b[36m0:00:00\u001b[0m\n",
            "\u001b[?25hRequirement already satisfied: tqdm>=4.27 in /usr/local/lib/python3.10/dist-packages (from transformers) (4.65.0)\n",
            "Requirement already satisfied: fsspec in /usr/local/lib/python3.10/dist-packages (from huggingface-hub<1.0,>=0.14.1->transformers) (2023.4.0)\n",
            "Requirement already satisfied: typing-extensions>=3.7.4.3 in /usr/local/lib/python3.10/dist-packages (from huggingface-hub<1.0,>=0.14.1->transformers) (4.5.0)\n",
            "Requirement already satisfied: urllib3<1.27,>=1.21.1 in /usr/local/lib/python3.10/dist-packages (from requests->transformers) (1.26.15)\n",
            "Requirement already satisfied: certifi>=2017.4.17 in /usr/local/lib/python3.10/dist-packages (from requests->transformers) (2022.12.7)\n",
            "Requirement already satisfied: charset-normalizer~=2.0.0 in /usr/local/lib/python3.10/dist-packages (from requests->transformers) (2.0.12)\n",
            "Requirement already satisfied: idna<4,>=2.5 in /usr/local/lib/python3.10/dist-packages (from requests->transformers) (3.4)\n",
            "Installing collected packages: tokenizers, safetensors, huggingface-hub, transformers\n",
            "Successfully installed huggingface-hub-0.15.1 safetensors-0.3.1 tokenizers-0.13.3 transformers-4.30.1\n"
          ]
        }
      ]
    },
    {
      "cell_type": "code",
      "source": [
        "pip install tabulate"
      ],
      "metadata": {
        "colab": {
          "base_uri": "https://localhost:8080/"
        },
        "id": "27_IfcgrFlfP",
        "outputId": "0995a4d8-0003-4baa-a123-54ad13475c75"
      },
      "execution_count": 4,
      "outputs": [
        {
          "output_type": "stream",
          "name": "stdout",
          "text": [
            "Looking in indexes: https://pypi.org/simple, https://us-python.pkg.dev/colab-wheels/public/simple/\n",
            "Requirement already satisfied: tabulate in /usr/local/lib/python3.10/dist-packages (0.8.10)\n"
          ]
        }
      ]
    },
    {
      "cell_type": "code",
      "source": [
        "pip install pyshorteners"
      ],
      "metadata": {
        "colab": {
          "base_uri": "https://localhost:8080/"
        },
        "id": "dr-NZKkNFoUb",
        "outputId": "964afc2a-9e1f-45ea-e0d1-04dbc617973d"
      },
      "execution_count": 5,
      "outputs": [
        {
          "output_type": "stream",
          "name": "stdout",
          "text": [
            "Looking in indexes: https://pypi.org/simple, https://us-python.pkg.dev/colab-wheels/public/simple/\n",
            "Collecting pyshorteners\n",
            "  Downloading pyshorteners-1.0.1.tar.gz (10.0 kB)\n",
            "  Preparing metadata (setup.py) ... \u001b[?25l\u001b[?25hdone\n",
            "Requirement already satisfied: requests in /usr/local/lib/python3.10/dist-packages (from pyshorteners) (2.27.1)\n",
            "Requirement already satisfied: urllib3<1.27,>=1.21.1 in /usr/local/lib/python3.10/dist-packages (from requests->pyshorteners) (1.26.15)\n",
            "Requirement already satisfied: certifi>=2017.4.17 in /usr/local/lib/python3.10/dist-packages (from requests->pyshorteners) (2022.12.7)\n",
            "Requirement already satisfied: charset-normalizer~=2.0.0 in /usr/local/lib/python3.10/dist-packages (from requests->pyshorteners) (2.0.12)\n",
            "Requirement already satisfied: idna<4,>=2.5 in /usr/local/lib/python3.10/dist-packages (from requests->pyshorteners) (3.4)\n",
            "Building wheels for collected packages: pyshorteners\n",
            "  Building wheel for pyshorteners (setup.py) ... \u001b[?25l\u001b[?25hdone\n",
            "  Created wheel for pyshorteners: filename=pyshorteners-1.0.1-py3-none-any.whl size=17479 sha256=9964db62aa69f009f7b3e8c47f9ea4d611be74c324004ec8808e26ab9f624f30\n",
            "  Stored in directory: /root/.cache/pip/wheels/d5/ff/b3/16d8906f92ab0b042f76a4696fcea11d291d79a2b3a3de1e78\n",
            "Successfully built pyshorteners\n",
            "Installing collected packages: pyshorteners\n",
            "Successfully installed pyshorteners-1.0.1\n"
          ]
        }
      ]
    },
    {
      "cell_type": "code",
      "source": [
        "# Wiki version with 2 summaries and URLs tabulated in a table format\n",
        "import requests\n",
        "from transformers import pipeline\n",
        "import pyshorteners\n",
        "from tabulate import tabulate\n",
        "\n",
        "# For the keywords below, don't forget to insert commas\n",
        "keywords = [\n",
        "    \"X\",\n",
        "    \"Invention of X\"\n",
        "    \"importance of X\",\n",
        "    \"ideal behavior of X\",\n",
        "    \"ideal vs. realistic behavior of X\",\n",
        "    \"significance of X\",\n",
        "    \"applications of X\",\n",
        "    \"physical significance of X\",\n",
        "    \"geometry used in X\",\n",
        "    \"typical characteristics of X\",\n",
        "    \"with and without X\",\n",
        "    \"what does X represent?\",\n",
        "    \"what is the concept of X?\",\n",
        "    \"taxonomy of X\",\n",
        "    \"table of X\",\n",
        "    \"list of X\"\n",
        "    \"X and people\"\n",
        "    \"X table\",\n",
        "    \"the analog of X\",\n",
        "    \"physical meaning of X\",\n",
        "    \"X symbolism\",\n",
        "    \"symbolism of X\",\n",
        "    \"iconographic meaning of X\",\n",
        "    \"why is X important?\",\n",
        "    \"generic model of a X\",\n",
        "    \"generic model representation of X\",\n",
        "    \"schematic representation of X\",\n",
        "    \"X is related to?\",\n",
        "    \"X conversions\"\n",
        "]\n",
        "\n",
        "base_url = \"https://en.wikipedia.org/w/api.php\"\n",
        "params = {\n",
        "    \"action\": \"query\",\n",
        "    \"format\": \"json\",\n",
        "    \"list\": \"search\",\n",
        "    \"srsearch\": \"\",\n",
        "    \"srprop\": \"snippet\"\n",
        "}\n",
        "\n",
        "entry = input(\"Enter the word for X: \")\n",
        "\n",
        "summarizer = pipeline(\"summarization\")\n",
        "shortener = pyshorteners.Shortener()\n",
        "\n",
        "table_data = []\n",
        "\n",
        "for keyword in keywords:\n",
        "    keyword_with_entry = keyword.replace(\"X\", entry)\n",
        "    params[\"srsearch\"] = keyword_with_entry\n",
        "    response = requests.get(base_url, params=params).json()\n",
        "    results = response[\"query\"][\"search\"]\n",
        "    if len(results) > 0:\n",
        "        row = [keyword_with_entry]\n",
        "        for i, result in enumerate(results[:2]):\n",
        "            title = result[\"title\"]\n",
        "            snippet = result[\"snippet\"]\n",
        "            summary = summarizer(snippet, max_length=100, min_length=30, do_sample=False)[0]['summary_text']\n",
        "            page_url = f\"https://en.wikipedia.org/wiki/{title.replace(' ', '_')}\"\n",
        "            shortened_url = shortener.tinyurl.short(page_url)\n",
        "            row.extend([summary, shortened_url])\n",
        "        table_data.append(row)\n",
        "\n",
        "table_headers = [\"Keyword\", \"Summary 1\", \"URL 1\", \"Summary 2\", \"URL 2\"]\n",
        "table = tabulate(table_data, headers=table_headers, tablefmt=\"pipe\")\n",
        "\n",
        "print(table)\n"
      ],
      "metadata": {
        "colab": {
          "base_uri": "https://localhost:8080/"
        },
        "id": "xkhWrCFfFoMW",
        "outputId": "ea7bb2ac-58eb-44a7-93e9-2baadd750953"
      },
      "execution_count": 7,
      "outputs": [
        {
          "name": "stdout",
          "output_type": "stream",
          "text": [
            "Enter the word for X: Navajo linguists\n"
          ]
        },
        {
          "output_type": "stream",
          "name": "stderr",
          "text": [
            "No model was supplied, defaulted to sshleifer/distilbart-cnn-12-6 and revision a4f8f3e (https://huggingface.co/sshleifer/distilbart-cnn-12-6).\n",
            "Using a pipeline without specifying a model name and revision in production is not recommended.\n",
            "Your max_length is set to 100, but your input_length is only 62. Since this is a summarization task, where outputs shorter than the input are typically wanted, you might consider decreasing max_length manually, e.g. summarizer('...', max_length=31)\n",
            "Your max_length is set to 100, but your input_length is only 64. Since this is a summarization task, where outputs shorter than the input are typically wanted, you might consider decreasing max_length manually, e.g. summarizer('...', max_length=32)\n",
            "Your max_length is set to 100, but your input_length is only 70. Since this is a summarization task, where outputs shorter than the input are typically wanted, you might consider decreasing max_length manually, e.g. summarizer('...', max_length=35)\n",
            "Your max_length is set to 100, but your input_length is only 76. Since this is a summarization task, where outputs shorter than the input are typically wanted, you might consider decreasing max_length manually, e.g. summarizer('...', max_length=38)\n",
            "Your max_length is set to 100, but your input_length is only 56. Since this is a summarization task, where outputs shorter than the input are typically wanted, you might consider decreasing max_length manually, e.g. summarizer('...', max_length=28)\n",
            "Your max_length is set to 100, but your input_length is only 62. Since this is a summarization task, where outputs shorter than the input are typically wanted, you might consider decreasing max_length manually, e.g. summarizer('...', max_length=31)\n",
            "Your max_length is set to 100, but your input_length is only 71. Since this is a summarization task, where outputs shorter than the input are typically wanted, you might consider decreasing max_length manually, e.g. summarizer('...', max_length=35)\n",
            "Your max_length is set to 100, but your input_length is only 82. Since this is a summarization task, where outputs shorter than the input are typically wanted, you might consider decreasing max_length manually, e.g. summarizer('...', max_length=41)\n",
            "Your max_length is set to 100, but your input_length is only 58. Since this is a summarization task, where outputs shorter than the input are typically wanted, you might consider decreasing max_length manually, e.g. summarizer('...', max_length=29)\n",
            "Your max_length is set to 100, but your input_length is only 71. Since this is a summarization task, where outputs shorter than the input are typically wanted, you might consider decreasing max_length manually, e.g. summarizer('...', max_length=35)\n",
            "Your max_length is set to 100, but your input_length is only 79. Since this is a summarization task, where outputs shorter than the input are typically wanted, you might consider decreasing max_length manually, e.g. summarizer('...', max_length=39)\n",
            "Your max_length is set to 100, but your input_length is only 57. Since this is a summarization task, where outputs shorter than the input are typically wanted, you might consider decreasing max_length manually, e.g. summarizer('...', max_length=28)\n",
            "Your max_length is set to 100, but your input_length is only 81. Since this is a summarization task, where outputs shorter than the input are typically wanted, you might consider decreasing max_length manually, e.g. summarizer('...', max_length=40)\n",
            "Your max_length is set to 100, but your input_length is only 52. Since this is a summarization task, where outputs shorter than the input are typically wanted, you might consider decreasing max_length manually, e.g. summarizer('...', max_length=26)\n",
            "Your max_length is set to 100, but your input_length is only 92. Since this is a summarization task, where outputs shorter than the input are typically wanted, you might consider decreasing max_length manually, e.g. summarizer('...', max_length=46)\n",
            "Your max_length is set to 100, but your input_length is only 95. Since this is a summarization task, where outputs shorter than the input are typically wanted, you might consider decreasing max_length manually, e.g. summarizer('...', max_length=47)\n",
            "Your max_length is set to 100, but your input_length is only 64. Since this is a summarization task, where outputs shorter than the input are typically wanted, you might consider decreasing max_length manually, e.g. summarizer('...', max_length=32)\n",
            "Your max_length is set to 100, but your input_length is only 80. Since this is a summarization task, where outputs shorter than the input are typically wanted, you might consider decreasing max_length manually, e.g. summarizer('...', max_length=40)\n",
            "Your max_length is set to 100, but your input_length is only 61. Since this is a summarization task, where outputs shorter than the input are typically wanted, you might consider decreasing max_length manually, e.g. summarizer('...', max_length=30)\n",
            "Your max_length is set to 100, but your input_length is only 73. Since this is a summarization task, where outputs shorter than the input are typically wanted, you might consider decreasing max_length manually, e.g. summarizer('...', max_length=36)\n",
            "Your max_length is set to 100, but your input_length is only 87. Since this is a summarization task, where outputs shorter than the input are typically wanted, you might consider decreasing max_length manually, e.g. summarizer('...', max_length=43)\n",
            "Your max_length is set to 100, but your input_length is only 65. Since this is a summarization task, where outputs shorter than the input are typically wanted, you might consider decreasing max_length manually, e.g. summarizer('...', max_length=32)\n",
            "Your max_length is set to 100, but your input_length is only 66. Since this is a summarization task, where outputs shorter than the input are typically wanted, you might consider decreasing max_length manually, e.g. summarizer('...', max_length=33)\n",
            "Your max_length is set to 100, but your input_length is only 78. Since this is a summarization task, where outputs shorter than the input are typically wanted, you might consider decreasing max_length manually, e.g. summarizer('...', max_length=39)\n",
            "Your max_length is set to 100, but your input_length is only 76. Since this is a summarization task, where outputs shorter than the input are typically wanted, you might consider decreasing max_length manually, e.g. summarizer('...', max_length=38)\n",
            "Your max_length is set to 100, but your input_length is only 62. Since this is a summarization task, where outputs shorter than the input are typically wanted, you might consider decreasing max_length manually, e.g. summarizer('...', max_length=31)\n",
            "Your max_length is set to 100, but your input_length is only 87. Since this is a summarization task, where outputs shorter than the input are typically wanted, you might consider decreasing max_length manually, e.g. summarizer('...', max_length=43)\n",
            "Your max_length is set to 100, but your input_length is only 70. Since this is a summarization task, where outputs shorter than the input are typically wanted, you might consider decreasing max_length manually, e.g. summarizer('...', max_length=35)\n",
            "Your max_length is set to 100, but your input_length is only 60. Since this is a summarization task, where outputs shorter than the input are typically wanted, you might consider decreasing max_length manually, e.g. summarizer('...', max_length=30)\n",
            "Your max_length is set to 100, but your input_length is only 91. Since this is a summarization task, where outputs shorter than the input are typically wanted, you might consider decreasing max_length manually, e.g. summarizer('...', max_length=45)\n",
            "Your max_length is set to 100, but your input_length is only 78. Since this is a summarization task, where outputs shorter than the input are typically wanted, you might consider decreasing max_length manually, e.g. summarizer('...', max_length=39)\n",
            "Your max_length is set to 100, but your input_length is only 64. Since this is a summarization task, where outputs shorter than the input are typically wanted, you might consider decreasing max_length manually, e.g. summarizer('...', max_length=32)\n",
            "Your max_length is set to 100, but your input_length is only 96. Since this is a summarization task, where outputs shorter than the input are typically wanted, you might consider decreasing max_length manually, e.g. summarizer('...', max_length=48)\n",
            "Your max_length is set to 100, but your input_length is only 64. Since this is a summarization task, where outputs shorter than the input are typically wanted, you might consider decreasing max_length manually, e.g. summarizer('...', max_length=32)\n",
            "Your max_length is set to 100, but your input_length is only 83. Since this is a summarization task, where outputs shorter than the input are typically wanted, you might consider decreasing max_length manually, e.g. summarizer('...', max_length=41)\n",
            "Your max_length is set to 100, but your input_length is only 72. Since this is a summarization task, where outputs shorter than the input are typically wanted, you might consider decreasing max_length manually, e.g. summarizer('...', max_length=36)\n",
            "Your max_length is set to 100, but your input_length is only 55. Since this is a summarization task, where outputs shorter than the input are typically wanted, you might consider decreasing max_length manually, e.g. summarizer('...', max_length=27)\n",
            "Your max_length is set to 100, but your input_length is only 75. Since this is a summarization task, where outputs shorter than the input are typically wanted, you might consider decreasing max_length manually, e.g. summarizer('...', max_length=37)\n"
          ]
        },
        {
          "output_type": "stream",
          "name": "stdout",
          "text": [
            "| Keyword                                                                   | Summary 1                                                                                                                                                                                                                                                                                           | URL 1                        | Summary 2                                                                                                                                                                                                                          | URL 2                        |\n",
            "|:--------------------------------------------------------------------------|:----------------------------------------------------------------------------------------------------------------------------------------------------------------------------------------------------------------------------------------------------------------------------------------------------|:-----------------------------|:-----------------------------------------------------------------------------------------------------------------------------------------------------------------------------------------------------------------------------------|:-----------------------------|\n",
            "| Navajo linguists                                                          | Diné bizaad [tìnépìz̥ɑ̀ːt] is a Southern Athabaskan language .                                                                                                                                                                                                                                        | https://tinyurl.com/j5vymdg  | The NLA organizes efforts of <span class=\"searchmatch\">linguists and language instructors to train teachers of Navajo . Summer workshops are held on the language, applied linguistics .                                           | https://tinyurl.com/23ovz79e |\n",
            "| ideal behavior of Navajo linguists                                        | Apache (Aravaipa, Pinaleño, Coyotero, Tonto). Distant cousins <span class=\"searchmatch\">of the Apache are the <span>Navajo, with whom they share the Southern Athabaskan languages .                                                                                                                | https://tinyurl.com/yam2l6uk | Lee interviewed <span class=\"searchmatch\">Navajo</span> students to learn more about their feelings and opinions on learning the language .                                                                                        | https://tinyurl.com/2bwh9l88 |\n",
            "| significance of Navajo linguists                                          | Linguist known for his work on the <span class=\"searchmatch\">Navajo</span> language . He was professor emeritus of linguistics at the University of New Mexico .                                                                                                                                    | https://tinyurl.com/22llou62 | Reichard studied three Native American languages: Wiyot, Coeur d'Alene and Navajo . Reichard was concerned with understanding Native Americans .                                                                                   | https://tinyurl.com/27w49wtp |\n",
            "| applications of Navajo linguists                                          | Tamil language has noun classification based on animacy . Tamil has a noun class based on the subject of an intense study . Tamil is a Tamil language with an animacy hierarchy .                                                                                                                   | https://tinyurl.com/2yagk9e4 | Eradicating Offensive Native Mascotry (EONM) seeks to end the use of Native Americans in the U.S. in the <span class=\"searchmatch\">Navajo</span> Nation and <span> Yankton Dakota descent .                                        | https://tinyurl.com/2d2tvz67 |\n",
            "| physical significance of Navajo linguists                                 | pērkonkrusts ('cross <span class=\"searchmatch\">of</span> thunder', 'thunder cross') can denote abundance of thunder .                                                                                                                                                                               | https://tinyurl.com/bppdhyz  | Hymes accused of sexual harassment in the later years of his tenure at the University of Pennsylvania . Hymes was influenced by a number of <span class=\"searchmatch\">linguists, anthropologists and anthropologists .             | https://tinyurl.com/25r5sazd |\n",
            "| geometry used in Navajo linguists                                         | Some Spanish colonists co-existed with and intermarried with Puebloan peoples and also enemies of the Comanche . the rest of New Spain .                                                                                                                                                            | https://tinyurl.com/2xuaczdn | meaning, such as good, bad (can also <span class=\"searchmatch\">use goodness and badness), hot, and cold . meaning . in the arts and sciences .                                                                                     | https://tinyurl.com/yavuyn5p |\n",
            "| typical characteristics of Navajo linguists                               | Linguists began noticing emerging <span class=\"searchmatch\">characteristics of Pacific Northwest English . pushed away in favour of having a .proper, clean &quot; dialect . Several decades later, <spanclassclass>linguists began . noticing emerging emerging . characteristics of the dialect . | https://tinyurl.com/229b6eyv | Koyukon (Northern Athabaskan) has a more intricate system of classification . It has classificatory verb stems that classify nouns according .                                                                                     | https://tinyurl.com/krq5dg3  |\n",
            "| with and without Navajo linguists                                         | Diné bizaad [tìnépìz̥ɑ̀ːt] is a Southern Athabaskan language .                                                                                                                                                                                                                                        | https://tinyurl.com/j5vymdg  | Reservation that was declared in 1882; . The remaining Hopi land was to be shared with the <span class=\"searchmatch\">Navajo</span> as the . <span>–Hopi Joint Use Area . From 1961 to 1964 .                                       | https://tinyurl.com/23a3wsbj |\n",
            "| what does Navajo linguists represent?                                     | Haida <span class=\"searchmatch\">represents</span> an additional branch, with Pacific Coast Southern . For those who follow Edward Sapir in connecting Haida to the above languages, Haida is a Haida language .                                                                                     | https://tinyurl.com/27yf27ll | Utah: <span class=\"searchmatch\">Navajo</span> Colorado: Jicarilla, <span>Navajo, Arizona: Chiricahua, Mescalero, Lipan . New Mexico: New Mexico, Texas: Lipan, Navajo; Utah: Navajo .                                              | https://tinyurl.com/2bcsh58p |\n",
            "| what is the concept of Navajo linguists?                                  | Apache are distant cousins <span class=\"searchmatch\">of the Athabaskan languages . (Aravaipa, Pinaleño, Coyotero, Tonto) Distant cousins of the Apache .                                                                                                                                            | https://tinyurl.com/yam2l6uk | Athabaskan is an anglicized version of a Cree word . Navajo is spoken by the largest number of people north of Mexico .                                                                                                            | https://tinyurl.com/2bcsh58p |\n",
            "| taxonomy of Navajo linguists                                              | Navajo or Navaho is a Southern Athabaskan language . Diné bizaad [tìnépìz̥ɑ̀ːt] or Naabeehóbizaad is the language of the Athabasan . Navajo is the name of the Native American tribe .                                                                                                                | https://tinyurl.com/j5vymdg  | Apache (Aravaipa, Pinaleño, Coyotero, Tonto). Distant cousins <span class=\"searchmatch\">of the Apache are the <span>Navajo, with whom they share the Southern Athabaskan languages .                                               | https://tinyurl.com/yam2l6uk |\n",
            "| table of Navajo linguists                                                 | Na-Dene languages and Yeniseian languages had a common common language . It was proposed in a 2014 paper that the languages of North America and Siberia shared a common form of language .                                                                                                         | https://tinyurl.com/27yf27ll | In Harry Hoijer and other American <span class=\"searchmatch\">linguists' work all o-vowels are written as o . Navajo does not use orthographic u, consistently writing o .                                                          | https://tinyurl.com/24yua8h4 |\n",
            "| list of Navajo linguistsNavajo linguists and peopleNavajo linguists table | In Harry Hoijer's work all o-vowels are written as o . Similarly, <span class=\"searchmatch\">Navajo's does not use orthographic u, consistently .                                                                                                                                                    | https://tinyurl.com/24yua8h4 | It was proposed in a 2014 paper that the Na-Dene languages of North America and the Yeniseian languages of Yenisean were spoken in the region . It was published in 2014 .                                                         | https://tinyurl.com/27yf27ll |\n",
            "| the analog of Navajo linguists                                            | ASL has verbal agreement and aspectual marking and has a productive system <span class=\"searchmatch\">of forming agglutinative classifiers .                                                                                                                                                         | https://tinyurl.com/oywnv7b  | Láadan created <span class=\"searchmatch\">the first UCSD student ever to write two dissertations (on English and Navajo Navajo) She created the engineered language Ládan, the first language language created by a UCSD linguist . | https://tinyurl.com/lon2e9p  |\n",
            "| physical meaning of Navajo linguists                                      | Navajo or Navaho is a Southern Athabaskan language . Diné bizaad [tìnépìz̥ɑ̀ːt] or Naabeehóbizaad is the language of the Athabasan . Navajo is the name of the Native American tribe .                                                                                                                | https://tinyurl.com/j5vymdg  | designated <span class=\"searchmatch\">Navajo</span>–Hopi Joint Use Area, but this continued to be a source of conflict . The partition of this area was partitioned by Acts of Congress .                                           | https://tinyurl.com/23a3wsbj |\n",
            "| Navajo linguists symbolism                                                | Co-authored with Adolph Bitanny, co-authored the story of the Coeur d'Alene . Hail Chant: Composition and <span class=\"searchmatch\">Symbolism</span> of the Ceirdene . Co-author: The Story of the Native Americans .                                                                               | https://tinyurl.com/27w49wtp | In Jain, it represents Suparshvanatha, the seventh of 24 Tirthankaras (spiritual teachers and saviours) In Buddhist <span class=\"searchmatch\">symbolism</span> it represents a Buddhist symbol .                                   | https://tinyurl.com/bppdhyz  |\n",
            "| symbolism of Navajo linguists                                             | The Coeur d'Alene Verb Stem. (co-authored with Adolph Bitanny) 1944: The Story <span class=\"searchmatch\">of </span> the <span> Navajo . Hail Chant . 1945: Composition and Composition of the poem .                                                                                                | https://tinyurl.com/27w49wtp | In Jain, it represents Suparshvanatha, the seventh of the 24 Tirthankaras (spiritual teachers and spiritual teachers) symbolising night or tantric aspects of Kali .                                                               | https://tinyurl.com/bppdhyz  |\n",
            "| iconographic meaning of Navajo linguists                                  | Among various tribes, the swastika carries different meanings . The swastika is used by southwestern tribes, most notably the Navajo, and plains nations such as the Dakota .                                                                                                                       | https://tinyurl.com/bppdhyz  |                                                                                                                                                                                                                                    |                              |\n",
            "| why is Navajo linguists important?                                        | The students are the Tohono O'odham, Hopi and Navajo . Paul Platero, MaryAnn Willie, and Maryann Willie are among the students .                                                                                                                                                                    | https://tinyurl.com/2yqdrbgc | Navajo is an Athabaskan language of the Na-Dené family, with 178,000 speakers . Navajo is the largest Native American language-speaking community by far .                                                                         | https://tinyurl.com/npnnnnx  |\n",
            "| generic model of a Navajo linguists                                       | He came into his own as one of the most significant <span class=\"searchmatch\">linguists in North America . He was employed by the Geological Survey of Canada for 15 years .                                                                                                                        | https://tinyurl.com/2yeoalv5 | In April 2014, <span class=\"searchmatch\">Navajo</span> Nation Council voted in favor of a statement opposing the name . Blackhorse, also a Native American, described it as a publicity stunt .                                    | https://tinyurl.com/m4vcseb  |\n",
            "| generic model representation of Navajo linguists                          | He came into his own as one of the most significant <span class=\"searchmatch\">linguists in North America . He was employed by the Geological Survey of Canada for 15 years .                                                                                                                        | https://tinyurl.com/2yeoalv5 |                                                                                                                                                                                                                                    |                              |\n",
            "| Navajo linguists is related to?                                           | Na-Dené family, through which it is related to languages spoken across the western areas of North America . Navajo is spoken primarily in the Southwestern areas of the country .                                                                                                                   | https://tinyurl.com/j5vymdg  | The NLA organizes efforts of <span class=\"searchmatch\">linguists and language instructors to train teachers of Navajo . Summer workshops on the Navajo language, applied linguistics are held by the NLA .                         | https://tinyurl.com/23ovz79e |\n",
            "| Navajo linguists conversions                                              | As the result of land disputes from 1940 to 1970 or earlier, the two nations used to share the government designated <span class=\"searchmatch\">Navajo</span> Reservation .                                                                                                                          | https://tinyurl.com/23a3wsbj | Christopher (January 21, 2016). &quot;<span class=\"searchmatch\">Navajos</span> and locals in Gallup celebrate Martin Luther King Jr. Day .                                                                                         | https://tinyurl.com/kasqv8l  |\n"
          ]
        }
      ]
    },
    {
      "cell_type": "code",
      "source": [
        "# Wiki version with 2 summaries and URLs tabulated in a table format\n",
        "import requests\n",
        "from transformers import pipeline\n",
        "import pyshorteners\n",
        "from tabulate import tabulate\n",
        "\n",
        "# For the keywords below, don't forget to insert commas\n",
        "keywords = [\n",
        "    \"X\",\n",
        "    \"Invention of X\"\n",
        "    \"importance of X\",\n",
        "    \"ideal behavior of X\",\n",
        "    \"ideal vs. realistic behavior of X\",\n",
        "    \"significance of X\",\n",
        "    \"applications of X\",\n",
        "    \"physical significance of X\",\n",
        "    \"geometry used in X\",\n",
        "    \"typical characteristics of X\",\n",
        "    \"with and without X\",\n",
        "    \"what does X represent?\",\n",
        "    \"what is the concept of X?\",\n",
        "    \"taxonomy of X\",\n",
        "    \"table of X\",\n",
        "    \"list of X\"\n",
        "    \"X and people\"\n",
        "    \"X table\",\n",
        "    \"the analog of X\",\n",
        "    \"physical meaning of X\",\n",
        "    \"X symbolism\",\n",
        "    \"symbolism of X\",\n",
        "    \"iconographic meaning of X\",\n",
        "    \"why is X important?\",\n",
        "    \"generic model of a X\",\n",
        "    \"generic model representation of X\",\n",
        "    \"schematic representation of X\",\n",
        "    \"X is related to?\",\n",
        "    \"X conversions\"\n",
        "]\n",
        "\n",
        "base_url = \"https://en.wikipedia.org/w/api.php\"\n",
        "params = {\n",
        "    \"action\": \"query\",\n",
        "    \"format\": \"json\",\n",
        "    \"list\": \"search\",\n",
        "    \"srsearch\": \"\",\n",
        "    \"srprop\": \"snippet\"\n",
        "}\n",
        "\n",
        "entry = input(\"Enter the word for X: \")\n",
        "\n",
        "summarizer = pipeline(\"summarization\")\n",
        "shortener = pyshorteners.Shortener()\n",
        "\n",
        "table_data = []\n",
        "\n",
        "for keyword in keywords:\n",
        "    keyword_with_entry = keyword.replace(\"X\", entry)\n",
        "    params[\"srsearch\"] = keyword_with_entry\n",
        "    response = requests.get(base_url, params=params).json()\n",
        "    results = response[\"query\"][\"search\"]\n",
        "    if len(results) > 0:\n",
        "        row = [keyword_with_entry]\n",
        "        for i, result in enumerate(results[:2]):\n",
        "            title = result[\"title\"]\n",
        "            snippet = result[\"snippet\"]\n",
        "            summary = summarizer(snippet, max_length=100, min_length=30, do_sample=False)[0]['summary_text']\n",
        "            page_url = f\"https://en.wikipedia.org/wiki/{title.replace(' ', '_')}\"\n",
        "            shortened_url = shortener.tinyurl.short(page_url)\n",
        "            row.extend([summary, shortened_url])\n",
        "        table_data.append(row)\n",
        "\n",
        "table_headers = [\"Keyword\", \"Summary 1\", \"URL 1\", \"Summary 2\", \"URL 2\"]\n",
        "table = tabulate(table_data, headers=table_headers, tablefmt=\"pipe\")\n",
        "\n",
        "print(table)\n"
      ],
      "metadata": {
        "colab": {
          "base_uri": "https://localhost:8080/"
        },
        "id": "b8LUJqlHJ_4D",
        "outputId": "88040e86-076f-44ea-b9fd-9ea0071cf410"
      },
      "execution_count": 9,
      "outputs": [
        {
          "name": "stdout",
          "output_type": "stream",
          "text": [
            "Enter the word for X: navajo mathematics\n"
          ]
        },
        {
          "output_type": "stream",
          "name": "stderr",
          "text": [
            "No model was supplied, defaulted to sshleifer/distilbart-cnn-12-6 and revision a4f8f3e (https://huggingface.co/sshleifer/distilbart-cnn-12-6).\n",
            "Using a pipeline without specifying a model name and revision in production is not recommended.\n",
            "Your max_length is set to 100, but your input_length is only 50. Since this is a summarization task, where outputs shorter than the input are typically wanted, you might consider decreasing max_length manually, e.g. summarizer('...', max_length=25)\n",
            "Your max_length is set to 100, but your input_length is only 41. Since this is a summarization task, where outputs shorter than the input are typically wanted, you might consider decreasing max_length manually, e.g. summarizer('...', max_length=20)\n",
            "Your max_length is set to 100, but your input_length is only 70. Since this is a summarization task, where outputs shorter than the input are typically wanted, you might consider decreasing max_length manually, e.g. summarizer('...', max_length=35)\n",
            "Your max_length is set to 100, but your input_length is only 96. Since this is a summarization task, where outputs shorter than the input are typically wanted, you might consider decreasing max_length manually, e.g. summarizer('...', max_length=48)\n",
            "Your max_length is set to 100, but your input_length is only 96. Since this is a summarization task, where outputs shorter than the input are typically wanted, you might consider decreasing max_length manually, e.g. summarizer('...', max_length=48)\n",
            "Your max_length is set to 100, but your input_length is only 62. Since this is a summarization task, where outputs shorter than the input are typically wanted, you might consider decreasing max_length manually, e.g. summarizer('...', max_length=31)\n",
            "Your max_length is set to 100, but your input_length is only 78. Since this is a summarization task, where outputs shorter than the input are typically wanted, you might consider decreasing max_length manually, e.g. summarizer('...', max_length=39)\n",
            "Your max_length is set to 100, but your input_length is only 62. Since this is a summarization task, where outputs shorter than the input are typically wanted, you might consider decreasing max_length manually, e.g. summarizer('...', max_length=31)\n",
            "Your max_length is set to 100, but your input_length is only 52. Since this is a summarization task, where outputs shorter than the input are typically wanted, you might consider decreasing max_length manually, e.g. summarizer('...', max_length=26)\n",
            "Your max_length is set to 100, but your input_length is only 62. Since this is a summarization task, where outputs shorter than the input are typically wanted, you might consider decreasing max_length manually, e.g. summarizer('...', max_length=31)\n",
            "Your max_length is set to 100, but your input_length is only 76. Since this is a summarization task, where outputs shorter than the input are typically wanted, you might consider decreasing max_length manually, e.g. summarizer('...', max_length=38)\n",
            "Your max_length is set to 100, but your input_length is only 84. Since this is a summarization task, where outputs shorter than the input are typically wanted, you might consider decreasing max_length manually, e.g. summarizer('...', max_length=42)\n",
            "Your max_length is set to 100, but your input_length is only 83. Since this is a summarization task, where outputs shorter than the input are typically wanted, you might consider decreasing max_length manually, e.g. summarizer('...', max_length=41)\n",
            "Your max_length is set to 100, but your input_length is only 51. Since this is a summarization task, where outputs shorter than the input are typically wanted, you might consider decreasing max_length manually, e.g. summarizer('...', max_length=25)\n",
            "Your max_length is set to 100, but your input_length is only 51. Since this is a summarization task, where outputs shorter than the input are typically wanted, you might consider decreasing max_length manually, e.g. summarizer('...', max_length=25)\n",
            "Your max_length is set to 100, but your input_length is only 60. Since this is a summarization task, where outputs shorter than the input are typically wanted, you might consider decreasing max_length manually, e.g. summarizer('...', max_length=30)\n",
            "Your max_length is set to 100, but your input_length is only 62. Since this is a summarization task, where outputs shorter than the input are typically wanted, you might consider decreasing max_length manually, e.g. summarizer('...', max_length=31)\n",
            "Your max_length is set to 100, but your input_length is only 67. Since this is a summarization task, where outputs shorter than the input are typically wanted, you might consider decreasing max_length manually, e.g. summarizer('...', max_length=33)\n",
            "Your max_length is set to 100, but your input_length is only 51. Since this is a summarization task, where outputs shorter than the input are typically wanted, you might consider decreasing max_length manually, e.g. summarizer('...', max_length=25)\n",
            "Your max_length is set to 100, but your input_length is only 72. Since this is a summarization task, where outputs shorter than the input are typically wanted, you might consider decreasing max_length manually, e.g. summarizer('...', max_length=36)\n",
            "Your max_length is set to 100, but your input_length is only 46. Since this is a summarization task, where outputs shorter than the input are typically wanted, you might consider decreasing max_length manually, e.g. summarizer('...', max_length=23)\n",
            "Your max_length is set to 100, but your input_length is only 69. Since this is a summarization task, where outputs shorter than the input are typically wanted, you might consider decreasing max_length manually, e.g. summarizer('...', max_length=34)\n",
            "Your max_length is set to 100, but your input_length is only 62. Since this is a summarization task, where outputs shorter than the input are typically wanted, you might consider decreasing max_length manually, e.g. summarizer('...', max_length=31)\n",
            "Your max_length is set to 100, but your input_length is only 62. Since this is a summarization task, where outputs shorter than the input are typically wanted, you might consider decreasing max_length manually, e.g. summarizer('...', max_length=31)\n",
            "Your max_length is set to 100, but your input_length is only 65. Since this is a summarization task, where outputs shorter than the input are typically wanted, you might consider decreasing max_length manually, e.g. summarizer('...', max_length=32)\n",
            "Your max_length is set to 100, but your input_length is only 63. Since this is a summarization task, where outputs shorter than the input are typically wanted, you might consider decreasing max_length manually, e.g. summarizer('...', max_length=31)\n",
            "Your max_length is set to 100, but your input_length is only 50. Since this is a summarization task, where outputs shorter than the input are typically wanted, you might consider decreasing max_length manually, e.g. summarizer('...', max_length=25)\n",
            "Your max_length is set to 100, but your input_length is only 56. Since this is a summarization task, where outputs shorter than the input are typically wanted, you might consider decreasing max_length manually, e.g. summarizer('...', max_length=28)\n",
            "Your max_length is set to 100, but your input_length is only 58. Since this is a summarization task, where outputs shorter than the input are typically wanted, you might consider decreasing max_length manually, e.g. summarizer('...', max_length=29)\n",
            "Your max_length is set to 100, but your input_length is only 66. Since this is a summarization task, where outputs shorter than the input are typically wanted, you might consider decreasing max_length manually, e.g. summarizer('...', max_length=33)\n",
            "Your max_length is set to 100, but your input_length is only 79. Since this is a summarization task, where outputs shorter than the input are typically wanted, you might consider decreasing max_length manually, e.g. summarizer('...', max_length=39)\n",
            "Your max_length is set to 100, but your input_length is only 92. Since this is a summarization task, where outputs shorter than the input are typically wanted, you might consider decreasing max_length manually, e.g. summarizer('...', max_length=46)\n",
            "Your max_length is set to 100, but your input_length is only 56. Since this is a summarization task, where outputs shorter than the input are typically wanted, you might consider decreasing max_length manually, e.g. summarizer('...', max_length=28)\n",
            "Your max_length is set to 100, but your input_length is only 70. Since this is a summarization task, where outputs shorter than the input are typically wanted, you might consider decreasing max_length manually, e.g. summarizer('...', max_length=35)\n",
            "Your max_length is set to 100, but your input_length is only 41. Since this is a summarization task, where outputs shorter than the input are typically wanted, you might consider decreasing max_length manually, e.g. summarizer('...', max_length=20)\n",
            "Your max_length is set to 100, but your input_length is only 77. Since this is a summarization task, where outputs shorter than the input are typically wanted, you might consider decreasing max_length manually, e.g. summarizer('...', max_length=38)\n",
            "Your max_length is set to 100, but your input_length is only 64. Since this is a summarization task, where outputs shorter than the input are typically wanted, you might consider decreasing max_length manually, e.g. summarizer('...', max_length=32)\n",
            "Your max_length is set to 100, but your input_length is only 67. Since this is a summarization task, where outputs shorter than the input are typically wanted, you might consider decreasing max_length manually, e.g. summarizer('...', max_length=33)\n",
            "Your max_length is set to 100, but your input_length is only 64. Since this is a summarization task, where outputs shorter than the input are typically wanted, you might consider decreasing max_length manually, e.g. summarizer('...', max_length=32)\n",
            "Your max_length is set to 100, but your input_length is only 62. Since this is a summarization task, where outputs shorter than the input are typically wanted, you might consider decreasing max_length manually, e.g. summarizer('...', max_length=31)\n",
            "Your max_length is set to 100, but your input_length is only 48. Since this is a summarization task, where outputs shorter than the input are typically wanted, you might consider decreasing max_length manually, e.g. summarizer('...', max_length=24)\n",
            "Your max_length is set to 100, but your input_length is only 70. Since this is a summarization task, where outputs shorter than the input are typically wanted, you might consider decreasing max_length manually, e.g. summarizer('...', max_length=35)\n",
            "Your max_length is set to 100, but your input_length is only 52. Since this is a summarization task, where outputs shorter than the input are typically wanted, you might consider decreasing max_length manually, e.g. summarizer('...', max_length=26)\n",
            "Your max_length is set to 100, but your input_length is only 75. Since this is a summarization task, where outputs shorter than the input are typically wanted, you might consider decreasing max_length manually, e.g. summarizer('...', max_length=37)\n",
            "Your max_length is set to 100, but your input_length is only 64. Since this is a summarization task, where outputs shorter than the input are typically wanted, you might consider decreasing max_length manually, e.g. summarizer('...', max_length=32)\n"
          ]
        },
        {
          "output_type": "stream",
          "name": "stdout",
          "text": [
            "| Keyword                                            | Summary 1                                                                                                                                                                                                                       | URL 1                        | Summary 2                                                                                                                                                                                                                                | URL 2                        |\n",
            "|:---------------------------------------------------|:--------------------------------------------------------------------------------------------------------------------------------------------------------------------------------------------------------------------------------|:-----------------------------|:-----------------------------------------------------------------------------------------------------------------------------------------------------------------------------------------------------------------------------------------|:-----------------------------|\n",
            "| navajo mathematics                                 | Alamo School Board, Inc. (ANSB) refers to the entity controlling a K-12 tribal school in Alamo, New Mexico . It is affiliated with the Bureau of Education .                                                                    | https://tinyurl.com/2dkwesuy | Education in the United States varies considerably from one state to the next, and even within a single state . However, with the adoption of math education in the U.S. it has become more common .                                     | https://tinyurl.com/2oghzqn6 |\n",
            "| ideal behavior of navajo mathematics               | Lee interviewed <span class=\"searchmatch\">Navajo</span> students to learn more about their feelings and opinions on learning the language .                                                                                     | https://tinyurl.com/2bwh9l88 | Peter Iverson, Diné: A History <span class=\"searchmatch\">of</span> the <span>Navajos, Illinois Press. pp.113–15. ISBN 9780252012853.                                                                                                     | https://tinyurl.com/hd7bbaw  |\n",
            "| ideal vs. realistic behavior of navajo mathematics | Peter Iverson, Diné: A History <span class=\"searchmatch\">of</span> the <span>Navajos, Illinois Press. pp.113–15. ISBN 9780252012853.                                                                                            | https://tinyurl.com/hd7bbaw  |                                                                                                                                                                                                                                          |                              |\n",
            "| significance of navajo mathematics                 | Common Core Standards have been adopted in most states and the District of Columbia . Mathematicics content across the country is moving across the U.S.                                                                        | https://tinyurl.com/2oghzqn6 | Rock played a crucial role in the history <span class=\"searchmatch\">of European American settlement . Rock was important to Utes, Paiutes, and Navajos .                                                                                 | https://tinyurl.com/22hza6yk |\n",
            "| applications of navajo mathematics                 | Common Core Standards have been adopted in most states and the District of Columbia . Mathematicics content across the country is moving across the U.S.                                                                        | https://tinyurl.com/2oghzqn6 | In everyday language it refers to a sense of harmonious and beautiful proportion and balance . In mathematics, the term has a more precise definition .                                                                                  | https://tinyurl.com/oyfvmsv  |\n",
            "| physical significance of navajo mathematics        | Common Core Standards have been adopted in most states and the District of Columbia . Mathematicics content across the country is moving across the U.S.                                                                        | https://tinyurl.com/2oghzqn6 | Indigenous Education Institute: Bluff, Utah . Basso, Ellen B. Basso: In Favor <span class=\"searchmatch\">of </span> Deceit: A Study of Tricksters in an Indigenous community .                                                            | https://tinyurl.com/nvtbwy2  |\n",
            "| geometry used in navajo mathematics                | Geometry is usually taken in 9th or 10th grade . It introduces students to the notion of rigor by way of some basic concepts .                                                                                                  | https://tinyurl.com/2oghzqn6 | Three perspectives: in mathematics, nature, science and nature, and in the arts, covering three perspectives . The symmetry is the most familiar type of symmetry for many people, including geometrics .                                | https://tinyurl.com/oyfvmsv  |\n",
            "| typical characteristics of navajo mathematics      | Greek culture, throwing rocks into the wind in <span class=\"searchmatch\">Navajo</span> culture, and ravens in Western culture . Some of these associations may derive from related facts .                                      | https://tinyurl.com/zun6ogw  | Navajo is sometimes categorized as a fusional language because its complex system of verbal affixes has become condensed . For example, <span class=\"searchmatch\">Navajo</span> has a complex system .                                   | https://tinyurl.com/27h8ddjt |\n",
            "| with and without navajo mathematics                | Alamo <span class=\"searchmatch\">Navajo</span> School Board, Inc. (ANSB) refers to the entity controlling a K-12 tribal school in Alamo, New Mexico .                                                                            | https://tinyurl.com/2dkwesuy | Mathematicics education in the United States varies considerably from one state to the next, even within a single state . However, with the adoption of math education in many states, it has become more common in recent years .       | https://tinyurl.com/2oghzqn6 |\n",
            "| what does navajo mathematics represent?            | Many Utah Navajos were forced to leave their ancestral lands in the 1860s . The long walk to Fort Sumner became known as the long walk . However, many Utah <span class=\"searchmatch\">Navajos</span> were able to escape .      | https://tinyurl.com/22hza6yk | Hmong, Hebrew, Khmer, Hmong and other Indo-European languages . Yoruba, Twi, Yoruba and Twi are 662 thousand Yoruba .                                                                                                                    | https://tinyurl.com/npnnnnx  |\n",
            "| what is the concept of navajo mathematics?         | The Common Core Standards have been adopted in most states and the District of Columbia . Mathematicics content across <span class=\"searchmatch\">is moving into closer math content in the United States .                      | https://tinyurl.com/2oghzqn6 | refers to a sense <span class=\"searchmatch\">of harmonious and beautiful proportion and balance . In mathematics, the term has a more precise definition and is usually used to refer .                                                   | https://tinyurl.com/oyfvmsv  |\n",
            "| taxonomy of navajo mathematics                     | For the <span class=\"searchmatch\">Navajo, dragonflies symbolize pure water . Followed snakes into the ground and healed them if they were injured .                                                                             | https://tinyurl.com/z8uxv7n  | large amount of mammoth dung has been found in two caves in Utah . The dry conditions and stable temperature <span class=\"searchmatch\">of</span> Bechan Cave (bechan is <span>Navajo  for &quot;large)                                   | https://tinyurl.com/23armwyb |\n",
            "| table of navajo mathematics                        | Common Core Standards have been adopted in most states and the District of Columbia . Mathematicics content across the country is moving across the U.S.                                                                        | https://tinyurl.com/2oghzqn6 | Khmer – 193 thousand <span class=\"searchmatch\">Navajo</span> – 155 thousand other Indo-European languages – 662 thousand Yoruba, Twi, Igbo and other languages .                                                                         | https://tinyurl.com/npnnnnx  |\n",
            "| the analog of navajo mathematics                   | The class instructs students in reading, writing and speaking <span class=\"searchmatch\">of</span> Japanese . The class also teaches students how to read, write and speak Japanese .                                            | https://tinyurl.com/26h6azyg | It tied with Roger Zelazny's This Immortal for <span class=\"searchmatch\">the Hugo Award in 1966 . It won the inaugural Nebula Award for the first Nebula Award .                                                                         | https://tinyurl.com/nrssqys  |\n",
            "| physical meaning of navajo mathematics             | Two meanings of the word can sometimes be told apart, but they are intricately related, and hence are discussed together in this article . The word is often used to refer to mathematical symmetry .                           | https://tinyurl.com/oyfvmsv  | French, Spanish, Chinese, Arabic, Russian, and Arabic . Plans to continue testing and revision of the original English text and subsequent eventual English text .                                                                       | https://tinyurl.com/y9avmpmn |\n",
            "| navajo mathematics symbolism                       | Secular structures can also function as axes mundi. In <span class=\"searchmatch\">Navajo</span> culture, the hogan is a symbol of the human form as world axis .                                                                 | https://tinyurl.com/olllnut  | derives words and names from a variety of other languages, including Hebrew, Latin, Dutch, Latin and Dutch . The Nahuatl language of the Aztecs is based on the language of Chakobsa .                                                   | https://tinyurl.com/nrssqys  |\n",
            "| symbolism of navajo mathematics                    | Secular structures can also function as axes mundi. In <span class=\"searchmatch\">Navajo</span> culture, the hogan is a symbol of the human form as world axis .                                                                 | https://tinyurl.com/olllnut  | Names from a variety of languages, including Hebrew, Latin, Dutch, Greek, Persian, Nahuatl, Hebrew, Arabic, Latin and Latin . Names from various languages include Hebrew, Spanish, Arabic and Latin, and Chakobsa .                     | https://tinyurl.com/nrssqys  |\n",
            "| iconographic meaning of navajo mathematics         | The <span class=\"searchmatch\">iconographic </span> content could cause controversy, as with late medieval depictions of the Swoon .                                                                                             | https://tinyurl.com/d89fdfq  | document a rich exchange of techniques and themes between Constantinople and the newly-Islamic textile centres . Istanbul and Constantinople were among the textile centres of the Mediterranean and Central .                           | https://tinyurl.com/yab7whfz |\n",
            "| why is navajo mathematics important?               | About one in five American adults are functionally innumerate . Many fear <span class=\"searchmatch\">mathematics . An overwhelming majority agree that math is important .                                                       | https://tinyurl.com/2oghzqn6 | English were translated into French, Spanish, Chinese, Arabic, Russian, and Arabic . There are plans to continue testing and revision of the original English text .                                                                     | https://tinyurl.com/y9avmpmn |\n",
            "| generic model of a navajo mathematics              | The ceremony was performed by singer (medicine man) Jeff King and recorded by artist and ethnologist Maud Oakes, recounting the story .                                                                                         | https://tinyurl.com/l9krkbu  | Renee C. Hanover (1969) First <span class=\"searchmatch\">Navajo</span> female: Claudeen Arthur (1970) First female solicitor for the U.S. Department of Labor: Carin Clauss (1963)                                                        | https://tinyurl.com/25fjk7kk |\n",
            "| generic model representation of navajo mathematics | The ceremony was performed by singer (medicine man) Jeff King and recorded by artist and ethnologist Maud Oakes . Oakes recounts the story of a Native American ceremony .                                                      | https://tinyurl.com/l9krkbu  | Renee C. Hanover (1969) First <span class=\"searchmatch\">Navajo</span> female: Claudeen Arthur (1970) First female solicitor for the U.S. Department of Labor: Carin Clauss (1963)                                                        | https://tinyurl.com/25fjk7kk |\n",
            "| schematic representation of navajo mathematics     | Some had varying degrees <span class=\"searchmatch\">of engineering, architecture, . architecture, <span>mathematics, astronomy, . astronomy, writing, physics, medicine, . medicine, and planting . confederacies, and empires . | https://tinyurl.com/6u6qpey  | A study analyzing the interaction <span class=\"searchmatch\">of assimilation and racial-ethnic schemas for Hispanic youth found that strong .schematic . identities for Hispanic . youth undermined by strong . identities, study found . | https://tinyurl.com/h5sw32u  |\n",
            "| navajo mathematics is related to?                  | Alamo <span class=\"searchmatch\">Navajo</span> School Board, Inc. refers to the entity controlling a K-12 tribal school in Alamo, New Mexico . It is affiliated with the Bureau of Investigation .                               | https://tinyurl.com/2dkwesuy | Education in the United States varies considerably from one state to the next, and even within a single state . However, with the adoption of math education in the U.S. education, it has become more common .                          | https://tinyurl.com/2oghzqn6 |\n",
            "| navajo mathematics conversions                     | Christopher (January 21, 2016). &quot;<span class=\"searchmatch\">Navajos</span> and locals in Gallup celebrate Martin Luther King Jr. Day .                                                                                      | https://tinyurl.com/kasqv8l  | Nigerian Pidgin Northern Sami Occitan Pattani Malay . Madurese Magahi Marwari Mazanderani Minangkabau Montenegrin Mooré (Mossi) Newar (Nepalbhasa)                                                                                       | https://tinyurl.com/yym9xwls |\n"
          ]
        }
      ]
    },
    {
      "cell_type": "code",
      "source": [
        "# Summaries can easily be changed"
      ],
      "metadata": {
        "id": "fi2Bs3jiKCX4"
      },
      "execution_count": null,
      "outputs": []
    }
  ]
}